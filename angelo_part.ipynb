{
 "cells": [
  {
   "cell_type": "markdown",
   "metadata": {},
   "source": [
    "## Importing Libraries"
   ]
  },
  {
   "cell_type": "code",
   "execution_count": null,
   "metadata": {},
   "outputs": [],
   "source": [
    "import pandas as pd\n",
    "from sklearn.impute import KNNImputer"
   ]
  },
  {
   "cell_type": "code",
   "execution_count": null,
   "metadata": {},
   "outputs": [],
   "source": [
    "import matplotlib.pyplot as plt\n",
    "import missingno as msno\n",
    "import seaborn as sns\n",
    "import numpy as np\n",
    "import statsmodels.api as sm\n",
    "from sklearn.model_selection import train_test_split\n",
    "from sklearn.metrics import mean_squared_error\n",
    "from sklearn.metrics import r2_score\n",
    "from sklearn.ensemble import RandomForestRegressor\n",
    "from sklearn.linear_model import LinearRegression\n",
    "from sklearn.neighbors import KNeighborsRegressor\n",
    "from sklearn.experimental import enable_iterative_imputer\n",
    "from sklearn.preprocessing import LabelEncoder"
   ]
  },
  {
   "cell_type": "markdown",
   "metadata": {},
   "source": [
    "## Importing data"
   ]
  },
  {
   "cell_type": "markdown",
   "metadata": {},
   "source": [
    "## Prediction"
   ]
  },
  {
   "cell_type": "code",
   "execution_count": null,
   "metadata": {},
   "outputs": [],
   "source": [
    "# Filling data path\n",
    "# train_data_path = \"./data/train.csv\"\n",
    "\n",
    "# # reading CSV file\n",
    "# df = pd.read_csv(train_data_path)\n",
    "# df.drop_duplicates(inplace=True)\n"
   ]
  },
  {
   "cell_type": "markdown",
   "metadata": {},
   "source": [
    "## Submission\n",
    "##### Splitting feature and target data and concatenating the Dataframes"
   ]
  },
  {
   "cell_type": "code",
   "execution_count": null,
   "metadata": {},
   "outputs": [
    {
     "name": "stdout",
     "output_type": "stream",
     "text": [
      "(10000, 17)\n"
     ]
    }
   ],
   "source": [
    "# Filling data path\n",
    "train_data_path = \"./data/train.csv\"\n",
    "test_data_path = \"./data/test.csv\"\n",
    "\n",
    "# reading CSV file\n",
    "df_train = pd.read_csv(train_data_path)\n",
    "df_test = pd.read_csv(test_data_path)\n",
    "\n",
    "# Creating column to differentiate df_test and df_train\n",
    "df_train['train_dummy'] = 1\n",
    "df_test['train_dummy'] = 0\n",
    "\n",
    "df = pd.concat([df_train, df_test], axis=0).sort_values(\"id\").reset_index()\n",
    "print(df.shape)\n"
   ]
  },
  {
   "cell_type": "markdown",
   "metadata": {},
   "source": [
    "## Data cleaning\n",
    "- Dropping columns\n",
    "- Creating Floor 1 Dummy\n",
    "- Removing outliers from the num_rooms and square_meters"
   ]
  },
  {
   "cell_type": "code",
   "execution_count": null,
   "metadata": {},
   "outputs": [],
   "source": [
    "# Dropping orientation (argue saying that this is hardly inputer and has a 30% of missing data) \n",
    "df.drop('orientation', axis=1, inplace=True)\n",
    "\n",
    "# Creating floor variable\n",
    "df[['floor', 'door_num']] = df['door'].str.split('-', n=1, expand=True)\n",
    "df['floor'] = df['floor'].str[0]\n",
    "df[\"floor\"] = pd.to_numeric(df[\"floor\"])\n",
    "\n",
    "# Dropping door and door_num columns (justify: not influential)\n",
    "df.drop(['door', 'door_num'], axis=1, inplace=True)\n",
    "\n",
    "# Replacing the outliers with NaN in the number of rooms (justify cutoff value: outliers are very high above 10)\n",
    "df['num_rooms'] = df['num_rooms'].apply(lambda x: x if x<10 else np.nan)\n",
    "\n",
    "# Replacing the values of square metres < 40 with NaN (change the cutoff value and see the results)\n",
    "df.loc[df['square_meters'] < 0, 'square_meters'] = np.nan"
   ]
  },
  {
   "cell_type": "code",
   "execution_count": null,
   "metadata": {},
   "outputs": [
    {
     "name": "stdout",
     "output_type": "stream",
     "text": [
      "Index(['index', 'id', 'num_rooms', 'num_baths', 'square_meters', 'year_built',\n",
      "       'is_furnished', 'has_pool', 'neighborhood', 'num_crimes', 'has_ac',\n",
      "       'accepts_pets', 'num_supermarkets', 'price', 'train_dummy', 'floor'],\n",
      "      dtype='object')\n"
     ]
    }
   ],
   "source": [
    "print(df.columns)"
   ]
  },
  {
   "cell_type": "markdown",
   "metadata": {},
   "source": [
    "## Standardizing"
   ]
  },
  {
   "cell_type": "code",
   "execution_count": null,
   "metadata": {},
   "outputs": [],
   "source": [
    "# Standardization\n",
    "to_standardize = ['num_rooms', 'num_baths', 'square_meters', 'year_built', 'neighborhood', 'num_crimes', 'price', 'floor']\n",
    "\n",
    "for i in to_standardize:\n",
    "    df[i] = (df[i] - np.mean(df[i])) / np.std(df[i])"
   ]
  }
 ],
 "metadata": {
  "language_info": {
   "name": "python"
  }
 },
 "nbformat": 4,
 "nbformat_minor": 2
}
