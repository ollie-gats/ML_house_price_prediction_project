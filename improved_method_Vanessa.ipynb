{
 "cells": [
  {
   "cell_type": "markdown",
   "metadata": {},
   "source": [
    "## Importing Libraries"
   ]
  },
  {
   "cell_type": "code",
   "execution_count": 122,
   "metadata": {},
   "outputs": [],
   "source": [
    "import pandas as pd\n",
    "from sklearn.impute import KNNImputer\n",
    "import matplotlib.pyplot as plt\n",
    "import missingno as msno\n",
    "import seaborn as sns\n",
    "import numpy as np\n",
    "import statsmodels.api as sm\n",
    "from sklearn.model_selection import train_test_split\n",
    "from sklearn.metrics import mean_squared_error\n",
    "from sklearn.metrics import r2_score\n",
    "from sklearn.ensemble import RandomForestRegressor\n",
    "from sklearn.linear_model import LinearRegression\n",
    "from sklearn.linear_model import LogisticRegression\n",
    "from sklearn.neighbors import KNeighborsRegressor\n",
    "from sklearn.experimental import enable_iterative_imputer\n",
    "from sklearn.preprocessing import LabelEncoder, StandardScaler\n",
    "from sklearn.model_selection import train_test_split\n",
    "from sklearn.linear_model import Lasso, Ridge\n",
    "from sklearn.metrics import mean_squared_error"
   ]
  },
  {
   "cell_type": "markdown",
   "metadata": {},
   "source": [
    "## Importing data"
   ]
  },
  {
   "cell_type": "code",
   "execution_count": 147,
   "metadata": {},
   "outputs": [
    {
     "name": "stdout",
     "output_type": "stream",
     "text": [
      "(10000, 17)\n"
     ]
    }
   ],
   "source": [
    "# Filling data path\n",
    "train_data_path = \"./data/train.csv\"\n",
    "test_data_path = \"./data/test.csv\"\n",
    "\n",
    "# reading CSV file\n",
    "df_train = pd.read_csv(train_data_path)\n",
    "df_test = pd.read_csv(test_data_path)\n",
    "\n",
    "# Creating column to differentiate df_test and df_train\n",
    "df_train['train_dummy'] = 1\n",
    "df_test['train_dummy'] = 0\n",
    "\n",
    "\n",
    "df = pd.concat([df_train, df_test], axis=0).sort_values(\"id\").reset_index()\n",
    "print(df.shape)"
   ]
  },
  {
   "cell_type": "markdown",
   "metadata": {},
   "source": [
    "# EDA"
   ]
  },
  {
   "cell_type": "code",
   "execution_count": 132,
   "metadata": {},
   "outputs": [
    {
     "data": {
      "text/html": [
       "<div>\n",
       "<style scoped>\n",
       "    .dataframe tbody tr th:only-of-type {\n",
       "        vertical-align: middle;\n",
       "    }\n",
       "\n",
       "    .dataframe tbody tr th {\n",
       "        vertical-align: top;\n",
       "    }\n",
       "\n",
       "    .dataframe thead th {\n",
       "        text-align: right;\n",
       "    }\n",
       "</style>\n",
       "<table border=\"1\" class=\"dataframe\">\n",
       "  <thead>\n",
       "    <tr style=\"text-align: right;\">\n",
       "      <th></th>\n",
       "      <th>index</th>\n",
       "      <th>id</th>\n",
       "      <th>num_rooms</th>\n",
       "      <th>num_baths</th>\n",
       "      <th>square_meters</th>\n",
       "      <th>orientation</th>\n",
       "      <th>year_built</th>\n",
       "      <th>door</th>\n",
       "      <th>is_furnished</th>\n",
       "      <th>has_pool</th>\n",
       "      <th>neighborhood</th>\n",
       "      <th>num_crimes</th>\n",
       "      <th>has_ac</th>\n",
       "      <th>accepts_pets</th>\n",
       "      <th>num_supermarkets</th>\n",
       "      <th>price</th>\n",
       "      <th>train_dummy</th>\n",
       "    </tr>\n",
       "  </thead>\n",
       "  <tbody>\n",
       "    <tr>\n",
       "      <th>0</th>\n",
       "      <td>597</td>\n",
       "      <td>1</td>\n",
       "      <td>3.0</td>\n",
       "      <td>3.0</td>\n",
       "      <td>126.0</td>\n",
       "      <td>east</td>\n",
       "      <td>2009.0</td>\n",
       "      <td>6º - 4a</td>\n",
       "      <td>True</td>\n",
       "      <td>True</td>\n",
       "      <td>Sant Martí</td>\n",
       "      <td>9.0</td>\n",
       "      <td>True</td>\n",
       "      <td>True</td>\n",
       "      <td>NaN</td>\n",
       "      <td>NaN</td>\n",
       "      <td>0</td>\n",
       "    </tr>\n",
       "    <tr>\n",
       "      <th>1</th>\n",
       "      <td>6521</td>\n",
       "      <td>2</td>\n",
       "      <td>4.0</td>\n",
       "      <td>3.0</td>\n",
       "      <td>154.0</td>\n",
       "      <td>NaN</td>\n",
       "      <td>2008.0</td>\n",
       "      <td>2º - 2a</td>\n",
       "      <td>True</td>\n",
       "      <td>True</td>\n",
       "      <td>Horta</td>\n",
       "      <td>0.0</td>\n",
       "      <td>True</td>\n",
       "      <td>True</td>\n",
       "      <td>NaN</td>\n",
       "      <td>1348.0</td>\n",
       "      <td>1</td>\n",
       "    </tr>\n",
       "    <tr>\n",
       "      <th>2</th>\n",
       "      <td>3404</td>\n",
       "      <td>3</td>\n",
       "      <td>1.0</td>\n",
       "      <td>3.0</td>\n",
       "      <td>140.0</td>\n",
       "      <td>NaN</td>\n",
       "      <td>2000.0</td>\n",
       "      <td>4º - 4a</td>\n",
       "      <td>False</td>\n",
       "      <td>True</td>\n",
       "      <td>Sants</td>\n",
       "      <td>6.0</td>\n",
       "      <td>NaN</td>\n",
       "      <td>False</td>\n",
       "      <td>NaN</td>\n",
       "      <td>1285.0</td>\n",
       "      <td>1</td>\n",
       "    </tr>\n",
       "    <tr>\n",
       "      <th>3</th>\n",
       "      <td>481</td>\n",
       "      <td>4</td>\n",
       "      <td>3.0</td>\n",
       "      <td>2.0</td>\n",
       "      <td>50.0</td>\n",
       "      <td>south</td>\n",
       "      <td>1984.0</td>\n",
       "      <td>1º - 2a</td>\n",
       "      <td>False</td>\n",
       "      <td>False</td>\n",
       "      <td>Sant Andreu</td>\n",
       "      <td>0.0</td>\n",
       "      <td>False</td>\n",
       "      <td>False</td>\n",
       "      <td>NaN</td>\n",
       "      <td>NaN</td>\n",
       "      <td>0</td>\n",
       "    </tr>\n",
       "    <tr>\n",
       "      <th>4</th>\n",
       "      <td>7628</td>\n",
       "      <td>5</td>\n",
       "      <td>3.0</td>\n",
       "      <td>3.0</td>\n",
       "      <td>106.0</td>\n",
       "      <td>south</td>\n",
       "      <td>1959.0</td>\n",
       "      <td>4º - 2a</td>\n",
       "      <td>True</td>\n",
       "      <td>True</td>\n",
       "      <td>Gràcia</td>\n",
       "      <td>1.0</td>\n",
       "      <td>True</td>\n",
       "      <td>True</td>\n",
       "      <td>NaN</td>\n",
       "      <td>1156.0</td>\n",
       "      <td>1</td>\n",
       "    </tr>\n",
       "    <tr>\n",
       "      <th>...</th>\n",
       "      <td>...</td>\n",
       "      <td>...</td>\n",
       "      <td>...</td>\n",
       "      <td>...</td>\n",
       "      <td>...</td>\n",
       "      <td>...</td>\n",
       "      <td>...</td>\n",
       "      <td>...</td>\n",
       "      <td>...</td>\n",
       "      <td>...</td>\n",
       "      <td>...</td>\n",
       "      <td>...</td>\n",
       "      <td>...</td>\n",
       "      <td>...</td>\n",
       "      <td>...</td>\n",
       "      <td>...</td>\n",
       "      <td>...</td>\n",
       "    </tr>\n",
       "    <tr>\n",
       "      <th>9995</th>\n",
       "      <td>3983</td>\n",
       "      <td>9996</td>\n",
       "      <td>4.0</td>\n",
       "      <td>3.0</td>\n",
       "      <td>51.0</td>\n",
       "      <td>west</td>\n",
       "      <td>1972.0</td>\n",
       "      <td>4º - 4a</td>\n",
       "      <td>False</td>\n",
       "      <td>False</td>\n",
       "      <td>Nou Barris</td>\n",
       "      <td>3.0</td>\n",
       "      <td>False</td>\n",
       "      <td>True</td>\n",
       "      <td>2.0</td>\n",
       "      <td>875.0</td>\n",
       "      <td>1</td>\n",
       "    </tr>\n",
       "    <tr>\n",
       "      <th>9996</th>\n",
       "      <td>1028</td>\n",
       "      <td>9997</td>\n",
       "      <td>3.0</td>\n",
       "      <td>3.0</td>\n",
       "      <td>134.0</td>\n",
       "      <td>NaN</td>\n",
       "      <td>1994.0</td>\n",
       "      <td>5º - 2a</td>\n",
       "      <td>False</td>\n",
       "      <td>False</td>\n",
       "      <td>Ciutat Vella</td>\n",
       "      <td>0.0</td>\n",
       "      <td>True</td>\n",
       "      <td>False</td>\n",
       "      <td>3.0</td>\n",
       "      <td>1108.0</td>\n",
       "      <td>1</td>\n",
       "    </tr>\n",
       "    <tr>\n",
       "      <th>9997</th>\n",
       "      <td>6572</td>\n",
       "      <td>9998</td>\n",
       "      <td>2.0</td>\n",
       "      <td>1.0</td>\n",
       "      <td>83.0</td>\n",
       "      <td>south</td>\n",
       "      <td>1950.0</td>\n",
       "      <td>9º - 4a</td>\n",
       "      <td>False</td>\n",
       "      <td>False</td>\n",
       "      <td>Les Cors</td>\n",
       "      <td>0.0</td>\n",
       "      <td>True</td>\n",
       "      <td>True</td>\n",
       "      <td>NaN</td>\n",
       "      <td>1083.0</td>\n",
       "      <td>1</td>\n",
       "    </tr>\n",
       "    <tr>\n",
       "      <th>9998</th>\n",
       "      <td>1767</td>\n",
       "      <td>9999</td>\n",
       "      <td>2.0</td>\n",
       "      <td>2.0</td>\n",
       "      <td>76.0</td>\n",
       "      <td>west</td>\n",
       "      <td>1998.0</td>\n",
       "      <td>1º - 2a</td>\n",
       "      <td>False</td>\n",
       "      <td>False</td>\n",
       "      <td>Nou Barris</td>\n",
       "      <td>4.0</td>\n",
       "      <td>True</td>\n",
       "      <td>True</td>\n",
       "      <td>3.0</td>\n",
       "      <td>NaN</td>\n",
       "      <td>0</td>\n",
       "    </tr>\n",
       "    <tr>\n",
       "      <th>9999</th>\n",
       "      <td>4466</td>\n",
       "      <td>10000</td>\n",
       "      <td>1.0</td>\n",
       "      <td>1.0</td>\n",
       "      <td>86.0</td>\n",
       "      <td>NaN</td>\n",
       "      <td>1958.0</td>\n",
       "      <td>3º - 4a</td>\n",
       "      <td>True</td>\n",
       "      <td>False</td>\n",
       "      <td>Gràcia</td>\n",
       "      <td>0.0</td>\n",
       "      <td>False</td>\n",
       "      <td>True</td>\n",
       "      <td>NaN</td>\n",
       "      <td>1174.0</td>\n",
       "      <td>1</td>\n",
       "    </tr>\n",
       "  </tbody>\n",
       "</table>\n",
       "<p>10000 rows × 17 columns</p>\n",
       "</div>"
      ],
      "text/plain": [
       "      index     id  num_rooms  num_baths  square_meters orientation  \\\n",
       "0       597      1        3.0        3.0          126.0        east   \n",
       "1      6521      2        4.0        3.0          154.0         NaN   \n",
       "2      3404      3        1.0        3.0          140.0         NaN   \n",
       "3       481      4        3.0        2.0           50.0       south   \n",
       "4      7628      5        3.0        3.0          106.0       south   \n",
       "...     ...    ...        ...        ...            ...         ...   \n",
       "9995   3983   9996        4.0        3.0           51.0        west   \n",
       "9996   1028   9997        3.0        3.0          134.0         NaN   \n",
       "9997   6572   9998        2.0        1.0           83.0       south   \n",
       "9998   1767   9999        2.0        2.0           76.0        west   \n",
       "9999   4466  10000        1.0        1.0           86.0         NaN   \n",
       "\n",
       "      year_built     door is_furnished has_pool  neighborhood  num_crimes  \\\n",
       "0         2009.0  6º - 4a         True     True    Sant Martí         9.0   \n",
       "1         2008.0  2º - 2a         True     True         Horta         0.0   \n",
       "2         2000.0  4º - 4a        False     True         Sants         6.0   \n",
       "3         1984.0  1º - 2a        False    False   Sant Andreu         0.0   \n",
       "4         1959.0  4º - 2a         True     True        Gràcia         1.0   \n",
       "...          ...      ...          ...      ...           ...         ...   \n",
       "9995      1972.0  4º - 4a        False    False    Nou Barris         3.0   \n",
       "9996      1994.0  5º - 2a        False    False  Ciutat Vella         0.0   \n",
       "9997      1950.0  9º - 4a        False    False      Les Cors         0.0   \n",
       "9998      1998.0  1º - 2a        False    False    Nou Barris         4.0   \n",
       "9999      1958.0  3º - 4a         True    False        Gràcia         0.0   \n",
       "\n",
       "     has_ac accepts_pets  num_supermarkets   price  train_dummy  \n",
       "0      True         True               NaN     NaN            0  \n",
       "1      True         True               NaN  1348.0            1  \n",
       "2       NaN        False               NaN  1285.0            1  \n",
       "3     False        False               NaN     NaN            0  \n",
       "4      True         True               NaN  1156.0            1  \n",
       "...     ...          ...               ...     ...          ...  \n",
       "9995  False         True               2.0   875.0            1  \n",
       "9996   True        False               3.0  1108.0            1  \n",
       "9997   True         True               NaN  1083.0            1  \n",
       "9998   True         True               3.0     NaN            0  \n",
       "9999  False         True               NaN  1174.0            1  \n",
       "\n",
       "[10000 rows x 17 columns]"
      ]
     },
     "metadata": {},
     "output_type": "display_data"
    }
   ],
   "source": [
    "# take a first look at df\n",
    "display(df)"
   ]
  },
  {
   "cell_type": "code",
   "execution_count": 133,
   "metadata": {},
   "outputs": [
    {
     "name": "stdout",
     "output_type": "stream",
     "text": [
      "The Dataframe has a shape of 10000 rows and 17 columns.\n",
      "\n",
      "The variable types of the Dataframe are the following:\n"
     ]
    },
    {
     "data": {
      "text/plain": [
       "index                 int64\n",
       "id                    int64\n",
       "num_rooms           float64\n",
       "num_baths           float64\n",
       "square_meters       float64\n",
       "orientation          object\n",
       "year_built          float64\n",
       "door                 object\n",
       "is_furnished         object\n",
       "has_pool             object\n",
       "neighborhood         object\n",
       "num_crimes          float64\n",
       "has_ac               object\n",
       "accepts_pets         object\n",
       "num_supermarkets    float64\n",
       "price               float64\n",
       "train_dummy           int64\n",
       "dtype: object"
      ]
     },
     "metadata": {},
     "output_type": "display_data"
    },
    {
     "name": "stdout",
     "output_type": "stream",
     "text": [
      "\n",
      "The descriptives of the Dataframe are the following:\n"
     ]
    },
    {
     "data": {
      "text/html": [
       "<div>\n",
       "<style scoped>\n",
       "    .dataframe tbody tr th:only-of-type {\n",
       "        vertical-align: middle;\n",
       "    }\n",
       "\n",
       "    .dataframe tbody tr th {\n",
       "        vertical-align: top;\n",
       "    }\n",
       "\n",
       "    .dataframe thead th {\n",
       "        text-align: right;\n",
       "    }\n",
       "</style>\n",
       "<table border=\"1\" class=\"dataframe\">\n",
       "  <thead>\n",
       "    <tr style=\"text-align: right;\">\n",
       "      <th></th>\n",
       "      <th>index</th>\n",
       "      <th>id</th>\n",
       "      <th>num_rooms</th>\n",
       "      <th>num_baths</th>\n",
       "      <th>square_meters</th>\n",
       "      <th>year_built</th>\n",
       "      <th>num_crimes</th>\n",
       "      <th>num_supermarkets</th>\n",
       "      <th>price</th>\n",
       "      <th>train_dummy</th>\n",
       "    </tr>\n",
       "  </thead>\n",
       "  <tbody>\n",
       "    <tr>\n",
       "      <th>count</th>\n",
       "      <td>10000.000000</td>\n",
       "      <td>10000.00000</td>\n",
       "      <td>9809.000000</td>\n",
       "      <td>9800.000000</td>\n",
       "      <td>9802.000000</td>\n",
       "      <td>9800.000000</td>\n",
       "      <td>9800.000000</td>\n",
       "      <td>1785.000000</td>\n",
       "      <td>8000.000000</td>\n",
       "      <td>10000.00000</td>\n",
       "    </tr>\n",
       "    <tr>\n",
       "      <th>mean</th>\n",
       "      <td>3399.500000</td>\n",
       "      <td>5000.50000</td>\n",
       "      <td>3.175553</td>\n",
       "      <td>1.992449</td>\n",
       "      <td>108.104673</td>\n",
       "      <td>1985.358163</td>\n",
       "      <td>2.776122</td>\n",
       "      <td>1.984314</td>\n",
       "      <td>1099.616250</td>\n",
       "      <td>0.80000</td>\n",
       "    </tr>\n",
       "    <tr>\n",
       "      <th>std</th>\n",
       "      <td>2402.896303</td>\n",
       "      <td>2886.89568</td>\n",
       "      <td>7.067345</td>\n",
       "      <td>0.815294</td>\n",
       "      <td>38.442532</td>\n",
       "      <td>20.613132</td>\n",
       "      <td>3.436340</td>\n",
       "      <td>0.804124</td>\n",
       "      <td>271.686617</td>\n",
       "      <td>0.40002</td>\n",
       "    </tr>\n",
       "    <tr>\n",
       "      <th>min</th>\n",
       "      <td>0.000000</td>\n",
       "      <td>1.00000</td>\n",
       "      <td>1.000000</td>\n",
       "      <td>1.000000</td>\n",
       "      <td>-100.000000</td>\n",
       "      <td>1950.000000</td>\n",
       "      <td>0.000000</td>\n",
       "      <td>1.000000</td>\n",
       "      <td>195.000000</td>\n",
       "      <td>0.00000</td>\n",
       "    </tr>\n",
       "    <tr>\n",
       "      <th>25%</th>\n",
       "      <td>1249.750000</td>\n",
       "      <td>2500.75000</td>\n",
       "      <td>1.000000</td>\n",
       "      <td>1.000000</td>\n",
       "      <td>78.000000</td>\n",
       "      <td>1968.000000</td>\n",
       "      <td>0.000000</td>\n",
       "      <td>1.000000</td>\n",
       "      <td>905.750000</td>\n",
       "      <td>1.00000</td>\n",
       "    </tr>\n",
       "    <tr>\n",
       "      <th>50%</th>\n",
       "      <td>2999.500000</td>\n",
       "      <td>5000.50000</td>\n",
       "      <td>3.000000</td>\n",
       "      <td>2.000000</td>\n",
       "      <td>109.000000</td>\n",
       "      <td>1985.000000</td>\n",
       "      <td>1.000000</td>\n",
       "      <td>2.000000</td>\n",
       "      <td>1104.000000</td>\n",
       "      <td>1.00000</td>\n",
       "    </tr>\n",
       "    <tr>\n",
       "      <th>75%</th>\n",
       "      <td>5499.250000</td>\n",
       "      <td>7500.25000</td>\n",
       "      <td>4.000000</td>\n",
       "      <td>3.000000</td>\n",
       "      <td>139.750000</td>\n",
       "      <td>2003.000000</td>\n",
       "      <td>6.000000</td>\n",
       "      <td>3.000000</td>\n",
       "      <td>1295.000000</td>\n",
       "      <td>1.00000</td>\n",
       "    </tr>\n",
       "    <tr>\n",
       "      <th>max</th>\n",
       "      <td>7999.000000</td>\n",
       "      <td>10000.00000</td>\n",
       "      <td>99.000000</td>\n",
       "      <td>3.000000</td>\n",
       "      <td>170.000000</td>\n",
       "      <td>2021.000000</td>\n",
       "      <td>10.000000</td>\n",
       "      <td>3.000000</td>\n",
       "      <td>2095.000000</td>\n",
       "      <td>1.00000</td>\n",
       "    </tr>\n",
       "  </tbody>\n",
       "</table>\n",
       "</div>"
      ],
      "text/plain": [
       "              index           id    num_rooms    num_baths  square_meters  \\\n",
       "count  10000.000000  10000.00000  9809.000000  9800.000000    9802.000000   \n",
       "mean    3399.500000   5000.50000     3.175553     1.992449     108.104673   \n",
       "std     2402.896303   2886.89568     7.067345     0.815294      38.442532   \n",
       "min        0.000000      1.00000     1.000000     1.000000    -100.000000   \n",
       "25%     1249.750000   2500.75000     1.000000     1.000000      78.000000   \n",
       "50%     2999.500000   5000.50000     3.000000     2.000000     109.000000   \n",
       "75%     5499.250000   7500.25000     4.000000     3.000000     139.750000   \n",
       "max     7999.000000  10000.00000    99.000000     3.000000     170.000000   \n",
       "\n",
       "        year_built   num_crimes  num_supermarkets        price  train_dummy  \n",
       "count  9800.000000  9800.000000       1785.000000  8000.000000  10000.00000  \n",
       "mean   1985.358163     2.776122          1.984314  1099.616250      0.80000  \n",
       "std      20.613132     3.436340          0.804124   271.686617      0.40002  \n",
       "min    1950.000000     0.000000          1.000000   195.000000      0.00000  \n",
       "25%    1968.000000     0.000000          1.000000   905.750000      1.00000  \n",
       "50%    1985.000000     1.000000          2.000000  1104.000000      1.00000  \n",
       "75%    2003.000000     6.000000          3.000000  1295.000000      1.00000  \n",
       "max    2021.000000    10.000000          3.000000  2095.000000      1.00000  "
      ]
     },
     "metadata": {},
     "output_type": "display_data"
    }
   ],
   "source": [
    "# Data Exploration\n",
    "\n",
    "# Describing Dataframe\n",
    "shape = df.shape\n",
    "print(f\"The Dataframe has a shape of {shape[0]} rows and {shape[1]} columns.\")\n",
    "var_types=df.dtypes\n",
    "print(f\"\\nThe variable types of the Dataframe are the following:\")\n",
    "display(var_types)\n",
    "\n",
    "# Descriptives\n",
    "print(f\"\\nThe descriptives of the Dataframe are the following:\")\n",
    "describe_df = df.describe()\n",
    "display(describe_df)"
   ]
  },
  {
   "cell_type": "code",
   "execution_count": 126,
   "metadata": {},
   "outputs": [
    {
     "data": {
      "text/plain": [
       "index                  0\n",
       "id                     0\n",
       "num_rooms            191\n",
       "num_baths            200\n",
       "square_meters        198\n",
       "orientation         2864\n",
       "year_built           200\n",
       "door                 200\n",
       "is_furnished         200\n",
       "has_pool             200\n",
       "neighborhood         200\n",
       "num_crimes           200\n",
       "has_ac               200\n",
       "accepts_pets         200\n",
       "num_supermarkets    8215\n",
       "price               2000\n",
       "train_dummy            0\n",
       "dtype: int64"
      ]
     },
     "execution_count": 126,
     "metadata": {},
     "output_type": "execute_result"
    }
   ],
   "source": [
    "# look at number of missing values\n",
    "df.isna().sum()"
   ]
  },
  {
   "cell_type": "markdown",
   "metadata": {},
   "source": [
    "### Looking at outliers "
   ]
  },
  {
   "cell_type": "code",
   "execution_count": 127,
   "metadata": {},
   "outputs": [
    {
     "data": {
      "image/png": "[encoded data removed]",
      "text/plain": [
       "<Figure size 1500x800 with 1 Axes>"
      ]
     },
     "metadata": {},
     "output_type": "display_data"
    }
   ],
   "source": [
    "# look at outlier distribution\n",
    "\n",
    "plt.figure(figsize=(15, 8))\n",
    "\n",
    "sns.boxplot(data=df, orient=\"h\", palette=\"Set2\")\n",
    "plt.title(\"Boxplots of All Columns\")\n",
    "plt.xlabel(\"Value\")\n",
    "\n",
    "plt.tight_layout()\n",
    "\n",
    "# Show the plot\n",
    "plt.show()"
   ]
  },
  {
   "cell_type": "markdown",
   "metadata": {},
   "source": [
    "because of different scales of columns it's hard to see the outliers sometimes -> create subplots"
   ]
  },
  {
   "cell_type": "code",
   "execution_count": 128,
   "metadata": {},
   "outputs": [
    {
     "data": {
      "image/png": "[encoded data removed]",
      "text/plain": [
       "<Figure size 640x480 with 1 Axes>"
      ]
     },
     "metadata": {},
     "output_type": "display_data"
    }
   ],
   "source": [
    "# Select the columns you want to include in the boxplot\n",
    "selected_columns = ['num_baths', 'is_furnished', 'has_pool', 'num_crimes', 'has_ac', 'accepts_pets']\n",
    "\n",
    "\n",
    "sns.boxplot(data=df[selected_columns], orient=\"h\", palette=\"Set2\")\n",
    "\n",
    "plt.title(\"Boxplot for Selected Columns\")\n",
    "plt.ylabel(\"Values\")\n",
    "\n",
    "plt.tight_layout()\n",
    "\n",
    "# Show the plot\n",
    "plt.show()"
   ]
  },
  {
   "cell_type": "markdown",
   "metadata": {},
   "source": [
    "no outliers in num_baths, is_furnished, has_pool, num_crimes, has_ac, accepts_pets"
   ]
  },
  {
   "cell_type": "code",
   "execution_count": 129,
   "metadata": {},
   "outputs": [
    {
     "data": {
      "image/png": "[encoded data removed]",
      "text/plain": [
       "<Figure size 640x480 with 1 Axes>"
      ]
     },
     "metadata": {},
     "output_type": "display_data"
    }
   ],
   "source": [
    "sns.boxplot(data=df['num_rooms'], palette=\"Set2\")\n",
    "plt.title(\"Boxplot for num_rooms\")\n",
    "\n",
    "# Show the plot\n",
    "plt.show()"
   ]
  },
  {
   "cell_type": "markdown",
   "metadata": {},
   "source": [
    "outliers in column num_rooms (as visivle in plot when num_rooms > 10)"
   ]
  },
  {
   "cell_type": "code",
   "execution_count": 130,
   "metadata": {},
   "outputs": [
    {
     "data": {
      "image/png": "[encoded data removed]",
      "text/plain": [
       "<Figure size 640x480 with 1 Axes>"
      ]
     },
     "metadata": {},
     "output_type": "display_data"
    }
   ],
   "source": [
    "sns.boxplot(data=df['square_meters'], palette=\"Set2\")\n",
    "plt.title(\"Boxplot for square_meters\")\n",
    "\n",
    "# Show the plot\n",
    "plt.show()"
   ]
  },
  {
   "cell_type": "markdown",
   "metadata": {},
   "source": [
    "outliers in column square_meters: values < 0 (generally negative values fpr square meters make no sense)"
   ]
  },
  {
   "cell_type": "code",
   "execution_count": 131,
   "metadata": {},
   "outputs": [
    {
     "data": {
      "image/png": "[encoded data removed]",
      "text/plain": [
       "<Figure size 640x480 with 1 Axes>"
      ]
     },
     "metadata": {},
     "output_type": "display_data"
    }
   ],
   "source": [
    "sns.boxplot(data=df['year_built'], palette=\"Set2\")\n",
    "plt.title(\"Boxplot for year_built\")\n",
    "\n",
    "# Show the plot\n",
    "plt.show()"
   ]
  },
  {
   "cell_type": "markdown",
   "metadata": {},
   "source": [
    "no outliers for year_built"
   ]
  },
  {
   "cell_type": "markdown",
   "metadata": {},
   "source": [
    "### look at correlations between columns"
   ]
  },
  {
   "cell_type": "code",
   "execution_count": 135,
   "metadata": {},
   "outputs": [
    {
     "data": {
      "image/png": "[encoded data removed]",
      "text/plain": [
       "<Figure size 1000x800 with 2 Axes>"
      ]
     },
     "metadata": {},
     "output_type": "display_data"
    }
   ],
   "source": [
    "numerical_columns = df.select_dtypes(include=['number'])\n",
    "correlation_matrix = numerical_columns.corr()\n",
    "\n",
    "# Create a heatmap\n",
    "plt.figure(figsize=(10, 8)) \n",
    "sns.heatmap(correlation_matrix, annot=True, cmap='coolwarm', linewidths=0.5)\n",
    "plt.title(\"Correlation Matrix Heatmap (Numerical Variables Only)\")\n",
    "plt.show()"
   ]
  },
  {
   "cell_type": "markdown",
   "metadata": {},
   "source": [
    "looks like square meters has the highest influence on price, followed by num_crimes"
   ]
  },
  {
   "cell_type": "markdown",
   "metadata": {},
   "source": [
    "showing missing values"
   ]
  },
  {
   "cell_type": "markdown",
   "metadata": {},
   "source": [
    "## Data cleaning\n",
    "- Creating Floor 1 Dummy\n",
    "- Removing outliers from the num_rooms and square_meters\n",
    "- imputing missing values\n",
    "- encoding categorical variables neighborhood and orientation"
   ]
  },
  {
   "cell_type": "code",
   "execution_count": 149,
   "metadata": {},
   "outputs": [
    {
     "ename": "KeyError",
     "evalue": "'orientation'",
     "output_type": "error",
     "traceback": [
      "\u001b[1;31m---------------------------------------------------------------------------\u001b[0m",
      "\u001b[1;31mKeyError\u001b[0m                                  Traceback (most recent call last)",
      "File \u001b[1;32m~\\AppData\\Local\\Packages\\PythonSoftwareFoundation.Python.3.11_qbz5n2kfra8p0\\LocalCache\\local-packages\\Python311\\site-packages\\pandas\\core\\indexes\\base.py:3653\u001b[0m, in \u001b[0;36mIndex.get_loc\u001b[1;34m(self, key)\u001b[0m\n\u001b[0;32m   3652\u001b[0m \u001b[39mtry\u001b[39;00m:\n\u001b[1;32m-> 3653\u001b[0m     \u001b[39mreturn\u001b[39;00m \u001b[39mself\u001b[39;49m\u001b[39m.\u001b[39;49m_engine\u001b[39m.\u001b[39;49mget_loc(casted_key)\n\u001b[0;32m   3654\u001b[0m \u001b[39mexcept\u001b[39;00m \u001b[39mKeyError\u001b[39;00m \u001b[39mas\u001b[39;00m err:\n",
      "File \u001b[1;32m~\\AppData\\Local\\Packages\\PythonSoftwareFoundation.Python.3.11_qbz5n2kfra8p0\\LocalCache\\local-packages\\Python311\\site-packages\\pandas\\_libs\\index.pyx:147\u001b[0m, in \u001b[0;36mpandas._libs.index.IndexEngine.get_loc\u001b[1;34m()\u001b[0m\n",
      "File \u001b[1;32m~\\AppData\\Local\\Packages\\PythonSoftwareFoundation.Python.3.11_qbz5n2kfra8p0\\LocalCache\\local-packages\\Python311\\site-packages\\pandas\\_libs\\index.pyx:176\u001b[0m, in \u001b[0;36mpandas._libs.index.IndexEngine.get_loc\u001b[1;34m()\u001b[0m\n",
      "File \u001b[1;32mpandas\\_libs\\hashtable_class_helper.pxi:7080\u001b[0m, in \u001b[0;36mpandas._libs.hashtable.PyObjectHashTable.get_item\u001b[1;34m()\u001b[0m\n",
      "File \u001b[1;32mpandas\\_libs\\hashtable_class_helper.pxi:7088\u001b[0m, in \u001b[0;36mpandas._libs.hashtable.PyObjectHashTable.get_item\u001b[1;34m()\u001b[0m\n",
      "\u001b[1;31mKeyError\u001b[0m: 'orientation'",
      "\nThe above exception was the direct cause of the following exception:\n",
      "\u001b[1;31mKeyError\u001b[0m                                  Traceback (most recent call last)",
      "\u001b[1;32mc:\\Users\\vanes\\Git_repositories\\ML_house_price_prediction_project\\improved_method_Vanessa.ipynb Cell 25\u001b[0m line \u001b[0;36m1\n\u001b[1;32m----> <a href='vscode-notebook-cell:/c%3A/Users/vanes/Git_repositories/ML_house_price_prediction_project/improved_method_Vanessa.ipynb#X13sZmlsZQ%3D%3D?line=0'>1</a>\u001b[0m \u001b[39mprint\u001b[39m(df[\u001b[39m'\u001b[39;49m\u001b[39morientation\u001b[39;49m\u001b[39m'\u001b[39;49m]\u001b[39m.\u001b[39mvalue_counts)\n\u001b[0;32m      <a href='vscode-notebook-cell:/c%3A/Users/vanes/Git_repositories/ML_house_price_prediction_project/improved_method_Vanessa.ipynb#X13sZmlsZQ%3D%3D?line=1'>2</a>\u001b[0m \u001b[39m# change orientation 'soxth' to 'south'\u001b[39;00m\n\u001b[0;32m      <a href='vscode-notebook-cell:/c%3A/Users/vanes/Git_repositories/ML_house_price_prediction_project/improved_method_Vanessa.ipynb#X13sZmlsZQ%3D%3D?line=2'>3</a>\u001b[0m df[\u001b[39m'\u001b[39m\u001b[39morientation\u001b[39m\u001b[39m'\u001b[39m]\u001b[39m.\u001b[39mreplace(\u001b[39m'\u001b[39m\u001b[39msoxth\u001b[39m\u001b[39m'\u001b[39m, \u001b[39m'\u001b[39m\u001b[39msouth\u001b[39m\u001b[39m'\u001b[39m)\n",
      "File \u001b[1;32m~\\AppData\\Local\\Packages\\PythonSoftwareFoundation.Python.3.11_qbz5n2kfra8p0\\LocalCache\\local-packages\\Python311\\site-packages\\pandas\\core\\frame.py:3761\u001b[0m, in \u001b[0;36mDataFrame.__getitem__\u001b[1;34m(self, key)\u001b[0m\n\u001b[0;32m   3759\u001b[0m \u001b[39mif\u001b[39;00m \u001b[39mself\u001b[39m\u001b[39m.\u001b[39mcolumns\u001b[39m.\u001b[39mnlevels \u001b[39m>\u001b[39m \u001b[39m1\u001b[39m:\n\u001b[0;32m   3760\u001b[0m     \u001b[39mreturn\u001b[39;00m \u001b[39mself\u001b[39m\u001b[39m.\u001b[39m_getitem_multilevel(key)\n\u001b[1;32m-> 3761\u001b[0m indexer \u001b[39m=\u001b[39m \u001b[39mself\u001b[39;49m\u001b[39m.\u001b[39;49mcolumns\u001b[39m.\u001b[39;49mget_loc(key)\n\u001b[0;32m   3762\u001b[0m \u001b[39mif\u001b[39;00m is_integer(indexer):\n\u001b[0;32m   3763\u001b[0m     indexer \u001b[39m=\u001b[39m [indexer]\n",
      "File \u001b[1;32m~\\AppData\\Local\\Packages\\PythonSoftwareFoundation.Python.3.11_qbz5n2kfra8p0\\LocalCache\\local-packages\\Python311\\site-packages\\pandas\\core\\indexes\\base.py:3655\u001b[0m, in \u001b[0;36mIndex.get_loc\u001b[1;34m(self, key)\u001b[0m\n\u001b[0;32m   3653\u001b[0m     \u001b[39mreturn\u001b[39;00m \u001b[39mself\u001b[39m\u001b[39m.\u001b[39m_engine\u001b[39m.\u001b[39mget_loc(casted_key)\n\u001b[0;32m   3654\u001b[0m \u001b[39mexcept\u001b[39;00m \u001b[39mKeyError\u001b[39;00m \u001b[39mas\u001b[39;00m err:\n\u001b[1;32m-> 3655\u001b[0m     \u001b[39mraise\u001b[39;00m \u001b[39mKeyError\u001b[39;00m(key) \u001b[39mfrom\u001b[39;00m \u001b[39merr\u001b[39;00m\n\u001b[0;32m   3656\u001b[0m \u001b[39mexcept\u001b[39;00m \u001b[39mTypeError\u001b[39;00m:\n\u001b[0;32m   3657\u001b[0m     \u001b[39m# If we have a listlike key, _check_indexing_error will raise\u001b[39;00m\n\u001b[0;32m   3658\u001b[0m     \u001b[39m#  InvalidIndexError. Otherwise we fall through and re-raise\u001b[39;00m\n\u001b[0;32m   3659\u001b[0m     \u001b[39m#  the TypeError.\u001b[39;00m\n\u001b[0;32m   3660\u001b[0m     \u001b[39mself\u001b[39m\u001b[39m.\u001b[39m_check_indexing_error(key)\n",
      "\u001b[1;31mKeyError\u001b[0m: 'orientation'"
     ]
    }
   ],
   "source": [
    "print(df['orientation'].value_counts)\n",
    "# change orientation 'soxth' to 'south'\n",
    "df['orientation'].replace('soxth', 'south')\n",
    "\n",
    "# using One-hot-encoding to encode categorical variable\n",
    "\n",
    "df = pd.get_dummies(df, columns=['orientation'], prefix='orientation')\n",
    "df.drop('orientation', axis=1, inplace=True)"
   ]
  },
  {
   "cell_type": "code",
   "execution_count": 102,
   "metadata": {},
   "outputs": [],
   "source": [
    "# Creating floor variable\n",
    "df[['floor', 'door_num']] = df['door'].str.split('-', n=1, expand=True)\n",
    "df['floor'] = df['floor'].str[0]\n",
    "df[\"floor\"] = pd.to_numeric(df[\"floor\"])\n",
    "\n",
    "# Dropping door and door_num columns (justify: not influential)\n",
    "df.drop(['door', 'door_num'], axis=1, inplace=True)\n",
    "\n",
    "# Replacing the outliers with NaN in the number of rooms (justify cutoff value: outliers are very high above 10)\n",
    "df['num_rooms'] = df['num_rooms'].apply(lambda x: x if x<10 else np.nan)\n",
    "\n",
    "# Replacing the values of square metres < 0 with NaN (change the cutoff value and see the results)\n",
    "df.loc[df['square_meters'] < 0, 'square_meters'] = np.nan"
   ]
  },
  {
   "cell_type": "markdown",
   "metadata": {},
   "source": [
    "## Standardizing and imputing"
   ]
  },
  {
   "cell_type": "code",
   "execution_count": 103,
   "metadata": {},
   "outputs": [
    {
     "data": {
      "image/png": "[encoded data removed]",
      "text/plain": [
       "<Figure size 640x480 with 1 Axes>"
      ]
     },
     "metadata": {},
     "output_type": "display_data"
    },
    {
     "name": "stdout",
     "output_type": "stream",
     "text": [
      "neighborhood\n",
      "Ciutat Vella           1985.694359\n",
      "Eixample               1986.274160\n",
      "Gràcia                 1984.242610\n",
      "Horta                  1984.520811\n",
      "Les Cors               1985.927293\n",
      "Nou Barris             1985.769920\n",
      "Sant Andreu            1984.408290\n",
      "Sant Martí             1985.191011\n",
      "Sants                  1985.726904\n",
      "Sarrià-Sant Gervasi    1985.493018\n",
      "Name: year_built, dtype: float64\n"
     ]
    }
   ],
   "source": [
    "# looking at year built\n",
    "df['year_built'].hist()\n",
    "plt.show()\n",
    "\n",
    "# quite equally distributed\n",
    "# look whether there are differences based on neighborhood\n",
    "mean_year_per_neigh = df.groupby('neighborhood')['year_built'].mean()\n",
    "print(mean_year_per_neigh)\n",
    "# no differences, just impute mean of year built\n",
    "df['year_built'] = df['year_built'].fillna(df['year_built'].mean())"
   ]
  },
  {
   "cell_type": "code",
   "execution_count": 104,
   "metadata": {},
   "outputs": [],
   "source": [
    "# Standardization\n",
    "def imputing_missing(impute_df, vars_to_impute):\n",
    "    standardizer = StandardScaler()\n",
    "    impute_df[vars_to_impute] = standardizer.fit_transform(df[vars_to_impute])\n",
    "    imputer = KNNImputer(n_neighbors=7)\n",
    "    impute_df[vars_to_impute] = imputer.fit_transform(df[vars_to_impute])\n",
    "    impute_df[vars_to_impute] = standardizer.inverse_transform(df[vars_to_impute])\n",
    "    return impute_df\n",
    "\n",
    "vars_to_impute = ['num_rooms', 'num_baths', 'square_meters', 'num_crimes', 'floor', 'has_ac', 'accepts_pets', 'is_furnished', 'has_pool', 'orientation_encoded']\n",
    "df = imputing_missing(df, vars_to_impute)"
   ]
  },
  {
   "cell_type": "code",
   "execution_count": 105,
   "metadata": {},
   "outputs": [],
   "source": [
    "# Re-standardising variables\n",
    "to_standardize = ['num_rooms', 'num_baths', 'square_meters', 'year_built', 'num_crimes', 'floor']\n",
    "\n",
    "for i in to_standardize:\n",
    "    df[i] = (df[i] - np.mean(df[i])) / np.std(df[i])"
   ]
  },
  {
   "cell_type": "markdown",
   "metadata": {},
   "source": [
    "### KNN all variables, aside from num_supermarkets and binaries"
   ]
  },
  {
   "cell_type": "code",
   "execution_count": 106,
   "metadata": {},
   "outputs": [],
   "source": [
    "# vars_to_impute = ['num_rooms', 'num_baths', 'square_meters', 'year_built', 'num_crimes', 'price', 'floor', 'has_ac', 'accepts_pets', 'is_furnished', 'has_pool']\n",
    "# impute_df = df[vars_to_impute]\n",
    "\n",
    "# imputer = KNNImputer(n_neighbors=7)\n",
    "# imputed_data = imputer.fit_transform(impute_df)\n",
    "# imputed_df = pd.DataFrame(imputed_data, columns = impute_df.columns)\n",
    "\n",
    "# for var in vars_to_impute:\n",
    "#     df[var] = imputed_df[var]"
   ]
  },
  {
   "cell_type": "markdown",
   "metadata": {},
   "source": [
    "#### Imputing neighborhood based on the number of crimes"
   ]
  },
  {
   "cell_type": "markdown",
   "metadata": {},
   "source": [
    "show that num_supermarkets is different based on neighborhood"
   ]
  },
  {
   "cell_type": "code",
   "execution_count": 107,
   "metadata": {},
   "outputs": [],
   "source": [
    "crimes_by_neighborhood = df.groupby('neighborhood')['num_crimes'].mean().to_dict()\n",
    "\n",
    "# Function to be used in the imputation process\n",
    "def find_closest_key(target, dictionary):\n",
    "    closest_key = None\n",
    "    closest_difference = float('inf')\n",
    "\n",
    "    for key, value in dictionary.items():\n",
    "        difference = abs(target - value)\n",
    "        if difference < closest_difference:\n",
    "            closest_key = key\n",
    "            closest_difference = difference\n",
    "\n",
    "    return closest_key\n",
    "\n",
    "# Imputing neighborhood based on number of crimes\n",
    "def impute_neighborhood(row):\n",
    "    crimes = row['num_crimes']\n",
    "    neighborhood = row['neighborhood']\n",
    "    if pd.isnull(neighborhood):\n",
    "        return find_closest_key(crimes, crimes_by_neighborhood)\n",
    "    else:\n",
    "        return neighborhood\n",
    "    \n",
    "df['neighborhood'] = df.apply(impute_neighborhood, axis=1)"
   ]
  },
  {
   "cell_type": "markdown",
   "metadata": {},
   "source": [
    "#### Imputing number of supermarkets with mean of the neighborhood"
   ]
  },
  {
   "cell_type": "markdown",
   "metadata": {},
   "source": [
    "show that num_supermarkets is different based on neighborhood"
   ]
  },
  {
   "cell_type": "code",
   "execution_count": 108,
   "metadata": {},
   "outputs": [],
   "source": [
    "neighborhood_means = df.groupby('neighborhood')['num_supermarkets'].mean()\n",
    "df['num_supermarkets'] = df['neighborhood'].map(neighborhood_means)"
   ]
  },
  {
   "cell_type": "markdown",
   "metadata": {},
   "source": [
    "#### Creating floor 1 dummy"
   ]
  },
  {
   "cell_type": "markdown",
   "metadata": {},
   "source": [
    "show that floor 1 has highest price and argue that leaving variable for that has worse MSE"
   ]
  },
  {
   "cell_type": "code",
   "execution_count": 109,
   "metadata": {},
   "outputs": [],
   "source": [
    "df['floor_one_dummy'] = df['floor'].apply(lambda x: True if x==1 else False)"
   ]
  },
  {
   "cell_type": "markdown",
   "metadata": {},
   "source": [
    "#### Encoding neighborhood"
   ]
  },
  {
   "cell_type": "code",
   "execution_count": 110,
   "metadata": {},
   "outputs": [],
   "source": [
    "df = pd.get_dummies(df, columns=['neighborhood'], prefix=['neigh']).reset_index(drop=True)"
   ]
  },
  {
   "cell_type": "code",
   "execution_count": 111,
   "metadata": {},
   "outputs": [
    {
     "data": {
      "text/plain": [
       "index                           0\n",
       "id                              0\n",
       "num_rooms                       0\n",
       "num_baths                       0\n",
       "square_meters                   0\n",
       "year_built                      0\n",
       "is_furnished                    0\n",
       "has_pool                        0\n",
       "num_crimes                      0\n",
       "has_ac                          0\n",
       "accepts_pets                    0\n",
       "num_supermarkets                0\n",
       "price                        2000\n",
       "train_dummy                     0\n",
       "orientation_encoded             0\n",
       "floor                           0\n",
       "floor_one_dummy                 0\n",
       "neigh_Ciutat Vella              0\n",
       "neigh_Eixample                  0\n",
       "neigh_Gràcia                    0\n",
       "neigh_Horta                     0\n",
       "neigh_Les Cors                  0\n",
       "neigh_Nou Barris                0\n",
       "neigh_Sant Andreu               0\n",
       "neigh_Sant Martí                0\n",
       "neigh_Sants                     0\n",
       "neigh_Sarrià-Sant Gervasi       0\n",
       "dtype: int64"
      ]
     },
     "execution_count": 111,
     "metadata": {},
     "output_type": "execute_result"
    }
   ],
   "source": [
    "df.isna().sum()"
   ]
  },
  {
   "cell_type": "markdown",
   "metadata": {},
   "source": [
    "\n",
    "\n",
    "When changing num_rooms based on outliers you get worse score -> leave them as their are"
   ]
  },
  {
   "cell_type": "markdown",
   "metadata": {},
   "source": [
    "#### Seperating the dfs for training and testing"
   ]
  },
  {
   "cell_type": "code",
   "execution_count": 112,
   "metadata": {},
   "outputs": [],
   "source": [
    "# Seperating test and train\n",
    "X_train = df[df['train_dummy'] == 1][['num_rooms', 'num_baths', 'square_meters', 'year_built', 'floor', 'num_crimes', 'floor_one_dummy', 'num_supermarkets', 'neigh_Ciutat Vella', 'neigh_Eixample', 'neigh_Gràcia', 'neigh_Horta', 'neigh_Les Cors', 'neigh_Nou Barris', 'neigh_Sant Andreu', 'neigh_Sant Martí', 'neigh_Sants', 'neigh_Sarrià-Sant Gervasi', 'is_furnished', 'has_pool', 'has_ac', 'accepts_pets', 'orientation_encoded']]\n",
    "y_train = df[df['train_dummy'] == 1][['price']]\n",
    "\n",
    "X_test = df[df['train_dummy'] == 0][['num_rooms', 'num_baths', 'square_meters', 'year_built', 'floor', 'num_crimes', 'floor_one_dummy', 'num_supermarkets', 'neigh_Ciutat Vella', 'neigh_Eixample', 'neigh_Gràcia', 'neigh_Horta', 'neigh_Les Cors', 'neigh_Nou Barris', 'neigh_Sant Andreu', 'neigh_Sant Martí', 'neigh_Sants', 'neigh_Sarrià-Sant Gervasi', 'is_furnished', 'has_pool', 'has_ac', 'accepts_pets', 'orientation_encoded']]"
   ]
  },
  {
   "cell_type": "code",
   "execution_count": 113,
   "metadata": {},
   "outputs": [],
   "source": [
    "# Creating function for cross validation\n",
    "\n",
    "def prediction_accuracy(X_train, y_train, model):\n",
    "    mse_list = []\n",
    "    num_of_predictions = 1000\n",
    "    for i in range (num_of_predictions):\n",
    "        X_train_temp, X_test_temp, y_train_temp, y_test_temp = train_test_split(X_train, y_train, test_size= 0.2)\n",
    "\n",
    "        model.fit(X_train_temp, y_train_temp)\n",
    "\n",
    "        y_pred = model.predict(X_test_temp)\n",
    "        mse = mean_squared_error(y_test_temp, y_pred)\n",
    "        mse_list.append(mse)\n",
    "    return sum(mse_list) / len(mse_list)\n"
   ]
  },
  {
   "cell_type": "markdown",
   "metadata": {},
   "source": [
    "## Model Training"
   ]
  },
  {
   "cell_type": "code",
   "execution_count": 114,
   "metadata": {},
   "outputs": [
    {
     "name": "stdout",
     "output_type": "stream",
     "text": [
      "30159.987417826276\n"
     ]
    }
   ],
   "source": [
    "# Test linear regression model\n",
    "lin_model = LinearRegression()\n",
    "print(prediction_accuracy(X_train, y_train, lin_model))"
   ]
  },
  {
   "cell_type": "code",
   "execution_count": 115,
   "metadata": {},
   "outputs": [
    {
     "name": "stderr",
     "output_type": "stream",
     "text": [
      "C:\\Users\\vanes\\AppData\\Local\\Packages\\PythonSoftwareFoundation.Python.3.11_qbz5n2kfra8p0\\LocalCache\\local-packages\\Python311\\site-packages\\sklearn\\linear_model\\_coordinate_descent.py:628: ConvergenceWarning: Objective did not converge. You might want to increase the number of iterations, check the scale of the features or consider increasing regularisation. Duality gap: 1.406e+07, tolerance: 4.706e+04\n",
      "  model = cd_fast.enet_coordinate_descent(\n",
      "C:\\Users\\vanes\\AppData\\Local\\Packages\\PythonSoftwareFoundation.Python.3.11_qbz5n2kfra8p0\\LocalCache\\local-packages\\Python311\\site-packages\\sklearn\\linear_model\\_coordinate_descent.py:628: ConvergenceWarning: Objective did not converge. You might want to increase the number of iterations, check the scale of the features or consider increasing regularisation. Duality gap: 1.406e+07, tolerance: 4.706e+04\n",
      "  model = cd_fast.enet_coordinate_descent(\n",
      "C:\\Users\\vanes\\AppData\\Local\\Packages\\PythonSoftwareFoundation.Python.3.11_qbz5n2kfra8p0\\LocalCache\\local-packages\\Python311\\site-packages\\sklearn\\linear_model\\_coordinate_descent.py:628: ConvergenceWarning: Objective did not converge. You might want to increase the number of iterations, check the scale of the features or consider increasing regularisation. Duality gap: 1.406e+07, tolerance: 4.706e+04\n",
      "  model = cd_fast.enet_coordinate_descent(\n",
      "C:\\Users\\vanes\\AppData\\Local\\Packages\\PythonSoftwareFoundation.Python.3.11_qbz5n2kfra8p0\\LocalCache\\local-packages\\Python311\\site-packages\\sklearn\\linear_model\\_coordinate_descent.py:628: ConvergenceWarning: Objective did not converge. You might want to increase the number of iterations, check the scale of the features or consider increasing regularisation. Duality gap: 1.406e+07, tolerance: 4.706e+04\n",
      "  model = cd_fast.enet_coordinate_descent(\n",
      "C:\\Users\\vanes\\AppData\\Local\\Packages\\PythonSoftwareFoundation.Python.3.11_qbz5n2kfra8p0\\LocalCache\\local-packages\\Python311\\site-packages\\sklearn\\linear_model\\_coordinate_descent.py:628: ConvergenceWarning: Objective did not converge. You might want to increase the number of iterations, check the scale of the features or consider increasing regularisation. Duality gap: 1.406e+07, tolerance: 4.706e+04\n",
      "  model = cd_fast.enet_coordinate_descent(\n",
      "C:\\Users\\vanes\\AppData\\Local\\Packages\\PythonSoftwareFoundation.Python.3.11_qbz5n2kfra8p0\\LocalCache\\local-packages\\Python311\\site-packages\\sklearn\\linear_model\\_coordinate_descent.py:628: ConvergenceWarning: Objective did not converge. You might want to increase the number of iterations, check the scale of the features or consider increasing regularisation. Duality gap: 1.406e+07, tolerance: 4.706e+04\n",
      "  model = cd_fast.enet_coordinate_descent(\n",
      "C:\\Users\\vanes\\AppData\\Local\\Packages\\PythonSoftwareFoundation.Python.3.11_qbz5n2kfra8p0\\LocalCache\\local-packages\\Python311\\site-packages\\sklearn\\linear_model\\_coordinate_descent.py:628: ConvergenceWarning: Objective did not converge. You might want to increase the number of iterations, check the scale of the features or consider increasing regularisation. Duality gap: 1.406e+07, tolerance: 4.706e+04\n",
      "  model = cd_fast.enet_coordinate_descent(\n",
      "C:\\Users\\vanes\\AppData\\Local\\Packages\\PythonSoftwareFoundation.Python.3.11_qbz5n2kfra8p0\\LocalCache\\local-packages\\Python311\\site-packages\\sklearn\\linear_model\\_coordinate_descent.py:628: ConvergenceWarning: Objective did not converge. You might want to increase the number of iterations, check the scale of the features or consider increasing regularisation. Duality gap: 1.406e+07, tolerance: 4.706e+04\n",
      "  model = cd_fast.enet_coordinate_descent(\n",
      "C:\\Users\\vanes\\AppData\\Local\\Packages\\PythonSoftwareFoundation.Python.3.11_qbz5n2kfra8p0\\LocalCache\\local-packages\\Python311\\site-packages\\sklearn\\linear_model\\_coordinate_descent.py:628: ConvergenceWarning: Objective did not converge. You might want to increase the number of iterations, check the scale of the features or consider increasing regularisation. Duality gap: 1.406e+07, tolerance: 4.706e+04\n",
      "  model = cd_fast.enet_coordinate_descent(\n",
      "C:\\Users\\vanes\\AppData\\Local\\Packages\\PythonSoftwareFoundation.Python.3.11_qbz5n2kfra8p0\\LocalCache\\local-packages\\Python311\\site-packages\\sklearn\\linear_model\\_coordinate_descent.py:628: ConvergenceWarning: Objective did not converge. You might want to increase the number of iterations, check the scale of the features or consider increasing regularisation. Duality gap: 1.406e+07, tolerance: 4.706e+04\n",
      "  model = cd_fast.enet_coordinate_descent(\n",
      "C:\\Users\\vanes\\AppData\\Local\\Packages\\PythonSoftwareFoundation.Python.3.11_qbz5n2kfra8p0\\LocalCache\\local-packages\\Python311\\site-packages\\sklearn\\linear_model\\_coordinate_descent.py:628: ConvergenceWarning: Objective did not converge. You might want to increase the number of iterations, check the scale of the features or consider increasing regularisation. Duality gap: 1.406e+07, tolerance: 4.706e+04\n",
      "  model = cd_fast.enet_coordinate_descent(\n",
      "C:\\Users\\vanes\\AppData\\Local\\Packages\\PythonSoftwareFoundation.Python.3.11_qbz5n2kfra8p0\\LocalCache\\local-packages\\Python311\\site-packages\\sklearn\\linear_model\\_coordinate_descent.py:628: ConvergenceWarning: Objective did not converge. You might want to increase the number of iterations, check the scale of the features or consider increasing regularisation. Duality gap: 1.406e+07, tolerance: 4.706e+04\n",
      "  model = cd_fast.enet_coordinate_descent(\n",
      "C:\\Users\\vanes\\AppData\\Local\\Packages\\PythonSoftwareFoundation.Python.3.11_qbz5n2kfra8p0\\LocalCache\\local-packages\\Python311\\site-packages\\sklearn\\linear_model\\_coordinate_descent.py:628: ConvergenceWarning: Objective did not converge. You might want to increase the number of iterations, check the scale of the features or consider increasing regularisation. Duality gap: 1.406e+07, tolerance: 4.706e+04\n",
      "  model = cd_fast.enet_coordinate_descent(\n",
      "C:\\Users\\vanes\\AppData\\Local\\Packages\\PythonSoftwareFoundation.Python.3.11_qbz5n2kfra8p0\\LocalCache\\local-packages\\Python311\\site-packages\\sklearn\\linear_model\\_coordinate_descent.py:628: ConvergenceWarning: Objective did not converge. You might want to increase the number of iterations, check the scale of the features or consider increasing regularisation. Duality gap: 1.406e+07, tolerance: 4.706e+04\n",
      "  model = cd_fast.enet_coordinate_descent(\n",
      "C:\\Users\\vanes\\AppData\\Local\\Packages\\PythonSoftwareFoundation.Python.3.11_qbz5n2kfra8p0\\LocalCache\\local-packages\\Python311\\site-packages\\sklearn\\linear_model\\_coordinate_descent.py:628: ConvergenceWarning: Objective did not converge. You might want to increase the number of iterations, check the scale of the features or consider increasing regularisation. Duality gap: 1.406e+07, tolerance: 4.706e+04\n",
      "  model = cd_fast.enet_coordinate_descent(\n",
      "C:\\Users\\vanes\\AppData\\Local\\Packages\\PythonSoftwareFoundation.Python.3.11_qbz5n2kfra8p0\\LocalCache\\local-packages\\Python311\\site-packages\\sklearn\\linear_model\\_coordinate_descent.py:628: ConvergenceWarning: Objective did not converge. You might want to increase the number of iterations, check the scale of the features or consider increasing regularisation. Duality gap: 1.406e+07, tolerance: 4.706e+04\n",
      "  model = cd_fast.enet_coordinate_descent(\n",
      "C:\\Users\\vanes\\AppData\\Local\\Packages\\PythonSoftwareFoundation.Python.3.11_qbz5n2kfra8p0\\LocalCache\\local-packages\\Python311\\site-packages\\sklearn\\linear_model\\_coordinate_descent.py:628: ConvergenceWarning: Objective did not converge. You might want to increase the number of iterations, check the scale of the features or consider increasing regularisation. Duality gap: 1.406e+07, tolerance: 4.706e+04\n",
      "  model = cd_fast.enet_coordinate_descent(\n",
      "C:\\Users\\vanes\\AppData\\Local\\Packages\\PythonSoftwareFoundation.Python.3.11_qbz5n2kfra8p0\\LocalCache\\local-packages\\Python311\\site-packages\\sklearn\\linear_model\\_coordinate_descent.py:628: ConvergenceWarning: Objective did not converge. You might want to increase the number of iterations, check the scale of the features or consider increasing regularisation. Duality gap: 1.406e+07, tolerance: 4.706e+04\n",
      "  model = cd_fast.enet_coordinate_descent(\n",
      "C:\\Users\\vanes\\AppData\\Local\\Packages\\PythonSoftwareFoundation.Python.3.11_qbz5n2kfra8p0\\LocalCache\\local-packages\\Python311\\site-packages\\sklearn\\linear_model\\_coordinate_descent.py:628: ConvergenceWarning: Objective did not converge. You might want to increase the number of iterations, check the scale of the features or consider increasing regularisation. Duality gap: 1.406e+07, tolerance: 4.706e+04\n",
      "  model = cd_fast.enet_coordinate_descent(\n",
      "C:\\Users\\vanes\\AppData\\Local\\Packages\\PythonSoftwareFoundation.Python.3.11_qbz5n2kfra8p0\\LocalCache\\local-packages\\Python311\\site-packages\\sklearn\\linear_model\\_coordinate_descent.py:628: ConvergenceWarning: Objective did not converge. You might want to increase the number of iterations, check the scale of the features or consider increasing regularisation. Duality gap: 1.406e+07, tolerance: 4.706e+04\n",
      "  model = cd_fast.enet_coordinate_descent(\n",
      "C:\\Users\\vanes\\AppData\\Local\\Packages\\PythonSoftwareFoundation.Python.3.11_qbz5n2kfra8p0\\LocalCache\\local-packages\\Python311\\site-packages\\sklearn\\linear_model\\_coordinate_descent.py:628: ConvergenceWarning: Objective did not converge. You might want to increase the number of iterations, check the scale of the features or consider increasing regularisation. Duality gap: 1.406e+07, tolerance: 4.706e+04\n",
      "  model = cd_fast.enet_coordinate_descent(\n",
      "C:\\Users\\vanes\\AppData\\Local\\Packages\\PythonSoftwareFoundation.Python.3.11_qbz5n2kfra8p0\\LocalCache\\local-packages\\Python311\\site-packages\\sklearn\\linear_model\\_coordinate_descent.py:628: ConvergenceWarning: Objective did not converge. You might want to increase the number of iterations, check the scale of the features or consider increasing regularisation. Duality gap: 1.406e+07, tolerance: 4.706e+04\n",
      "  model = cd_fast.enet_coordinate_descent(\n",
      "C:\\Users\\vanes\\AppData\\Local\\Packages\\PythonSoftwareFoundation.Python.3.11_qbz5n2kfra8p0\\LocalCache\\local-packages\\Python311\\site-packages\\sklearn\\linear_model\\_coordinate_descent.py:628: ConvergenceWarning: Objective did not converge. You might want to increase the number of iterations, check the scale of the features or consider increasing regularisation. Duality gap: 1.406e+07, tolerance: 4.706e+04\n",
      "  model = cd_fast.enet_coordinate_descent(\n",
      "C:\\Users\\vanes\\AppData\\Local\\Packages\\PythonSoftwareFoundation.Python.3.11_qbz5n2kfra8p0\\LocalCache\\local-packages\\Python311\\site-packages\\sklearn\\linear_model\\_coordinate_descent.py:628: ConvergenceWarning: Objective did not converge. You might want to increase the number of iterations, check the scale of the features or consider increasing regularisation. Duality gap: 1.406e+07, tolerance: 4.706e+04\n",
      "  model = cd_fast.enet_coordinate_descent(\n",
      "C:\\Users\\vanes\\AppData\\Local\\Packages\\PythonSoftwareFoundation.Python.3.11_qbz5n2kfra8p0\\LocalCache\\local-packages\\Python311\\site-packages\\sklearn\\linear_model\\_coordinate_descent.py:628: ConvergenceWarning: Objective did not converge. You might want to increase the number of iterations, check the scale of the features or consider increasing regularisation. Duality gap: 4.322e+06, tolerance: 4.706e+04\n",
      "  model = cd_fast.enet_coordinate_descent(\n",
      "C:\\Users\\vanes\\AppData\\Local\\Packages\\PythonSoftwareFoundation.Python.3.11_qbz5n2kfra8p0\\LocalCache\\local-packages\\Python311\\site-packages\\sklearn\\linear_model\\_coordinate_descent.py:628: ConvergenceWarning: Objective did not converge. You might want to increase the number of iterations, check the scale of the features or consider increasing regularisation. Duality gap: 1.350e+06, tolerance: 4.706e+04\n",
      "  model = cd_fast.enet_coordinate_descent(\n",
      "C:\\Users\\vanes\\AppData\\Local\\Packages\\PythonSoftwareFoundation.Python.3.11_qbz5n2kfra8p0\\LocalCache\\local-packages\\Python311\\site-packages\\sklearn\\linear_model\\_coordinate_descent.py:628: ConvergenceWarning: Objective did not converge. You might want to increase the number of iterations, check the scale of the features or consider increasing regularisation. Duality gap: 1.350e+06, tolerance: 4.706e+04\n",
      "  model = cd_fast.enet_coordinate_descent(\n",
      "C:\\Users\\vanes\\AppData\\Local\\Packages\\PythonSoftwareFoundation.Python.3.11_qbz5n2kfra8p0\\LocalCache\\local-packages\\Python311\\site-packages\\sklearn\\linear_model\\_coordinate_descent.py:628: ConvergenceWarning: Objective did not converge. You might want to increase the number of iterations, check the scale of the features or consider increasing regularisation. Duality gap: 1.350e+06, tolerance: 4.706e+04\n",
      "  model = cd_fast.enet_coordinate_descent(\n",
      "C:\\Users\\vanes\\AppData\\Local\\Packages\\PythonSoftwareFoundation.Python.3.11_qbz5n2kfra8p0\\LocalCache\\local-packages\\Python311\\site-packages\\sklearn\\linear_model\\_coordinate_descent.py:628: ConvergenceWarning: Objective did not converge. You might want to increase the number of iterations, check the scale of the features or consider increasing regularisation. Duality gap: 1.350e+06, tolerance: 4.706e+04\n",
      "  model = cd_fast.enet_coordinate_descent(\n"
     ]
    },
    {
     "name": "stdout",
     "output_type": "stream",
     "text": [
      "Best alpha for Lasso: 0.625\n",
      "Minimum MSE for Lasso: 28571.472\n",
      "\n",
      "Best alpha for Ridge: 0.0\n",
      "Minimum MSE for Ridge: 28589.801\n"
     ]
    }
   ],
   "source": [
    "X_train_temp, X_test_temp, y_train_temp, y_test_temp = train_test_split(X_train, y_train, test_size= 0.2)\n",
    "\n",
    "# Define a range of alpha values to try\n",
    "alphas = np.logspace(-10, 0, 50)\n",
    "\n",
    "# Initialize variables to store the best alpha and minimum MSE\n",
    "best_alpha_lasso = None\n",
    "best_alpha_ridge = None\n",
    "min_mse_lasso = float('inf')\n",
    "min_mse_ridge = float('inf')\n",
    "\n",
    "# Loop over the alpha values and fit Lasso and Ridge models\n",
    "for alpha in alphas:\n",
    "    # Fit Lasso model\n",
    "    lasso = Lasso(alpha=alpha)\n",
    "    lasso.fit(X_train_temp, y_train_temp)\n",
    "    y_pred_lasso = lasso.predict(X_test_temp)\n",
    "    mse_lasso = mean_squared_error(y_test_temp, y_pred_lasso)\n",
    "\n",
    "    # Update best alpha and minimum MSE for Lasso\n",
    "    if mse_lasso < min_mse_lasso:\n",
    "        min_mse_lasso = mse_lasso\n",
    "        best_alpha_lasso = alpha\n",
    "\n",
    "    # Fit Ridge model\n",
    "    ridge = Ridge(alpha=alpha)\n",
    "    ridge.fit(X_train_temp, y_train_temp)\n",
    "    y_pred_ridge = ridge.predict(X_test_temp)\n",
    "    mse_ridge = mean_squared_error(y_test_temp, y_pred_ridge)\n",
    "\n",
    "    # Update best alpha and minimum MSE for Ridge\n",
    "    if mse_ridge < min_mse_ridge:\n",
    "        min_mse_ridge = mse_ridge\n",
    "        best_alpha_ridge = alpha\n",
    "\n",
    "# Print the best alpha and minimum MSE for Lasso and Ridge\n",
    "print(\"Best alpha for Lasso:\", round(best_alpha_lasso,3))\n",
    "print(\"Minimum MSE for Lasso:\", round(min_mse_lasso,3))\n",
    "print()\n",
    "print(\"Best alpha for Ridge:\", round(best_alpha_ridge,3))\n",
    "print(\"Minimum MSE for Ridge:\", round(min_mse_ridge,3))\n"
   ]
  },
  {
   "cell_type": "markdown",
   "metadata": {},
   "source": [
    "Best MSE score with Lasso and Alpha = 1"
   ]
  },
  {
   "cell_type": "code",
   "execution_count": 116,
   "metadata": {},
   "outputs": [
    {
     "name": "stdout",
     "output_type": "stream",
     "text": [
      "30071.767350100297\n"
     ]
    }
   ],
   "source": [
    "# Test lasso regression model with best alpha\n",
    "lasso_model = Lasso(alpha=best_alpha_lasso)\n",
    "print(prediction_accuracy(X_train, y_train, lasso_model))"
   ]
  },
  {
   "cell_type": "markdown",
   "metadata": {},
   "source": []
  },
  {
   "cell_type": "markdown",
   "metadata": {},
   "source": [
    "## Prediction"
   ]
  },
  {
   "cell_type": "code",
   "execution_count": 117,
   "metadata": {},
   "outputs": [],
   "source": [
    "# Linear regression prediction\n",
    "y_pred = lin_model.predict(X_test)\n",
    "\n",
    "new_df = pd.DataFrame()\n",
    "new_df['id'] = df[df['train_dummy'] == 0]['id']\n",
    "new_df['pred'] = y_pred"
   ]
  },
  {
   "cell_type": "code",
   "execution_count": 118,
   "metadata": {},
   "outputs": [],
   "source": [
    "# Impletmenting LASSO with optimal alpha\n",
    "lasso = Lasso(alpha=best_alpha_lasso)\n",
    "lasso.fit(X_train, y_train)\n",
    "y_pred = lasso.predict(X_test)\n",
    "\n",
    "new_df = pd.DataFrame()\n",
    "new_df['id'] = df[df['train_dummy'] == 0]['id']\n",
    "new_df['pred'] = y_pred"
   ]
  },
  {
   "cell_type": "markdown",
   "metadata": {},
   "source": [
    "#### Exporting data"
   ]
  },
  {
   "cell_type": "code",
   "execution_count": 119,
   "metadata": {},
   "outputs": [],
   "source": [
    "new_df.to_csv('C:/Users/vanes/Desktop/BSE/Term 1/Computational Machine Learning/Lasso_mean_year.csv', index=False)"
   ]
  },
  {
   "cell_type": "markdown",
   "metadata": {},
   "source": [
    "# Methods that didn't improve the score"
   ]
  },
  {
   "cell_type": "markdown",
   "metadata": {},
   "source": [
    "changing the number of rooms for those with outliers in sqm_per_room"
   ]
  },
  {
   "cell_type": "code",
   "execution_count": null,
   "metadata": {},
   "outputs": [],
   "source": [
    "mean_sqm_to_room = df.groupby('num_rooms')['square_meters'].mean()\n",
    "print(mean_sqm_to_room)\n",
    "\n",
    "# seems odd that the mean size of the apartments is nearly the same for all num_rooms\n",
    "# creating a new variable: square meters per room and look at the outliers (only if square_meter is positive, closer look at negative values later)\n",
    "def calculating_sqm_per_room(row):\n",
    "    if row['square_meters'] > 0:\n",
    "        return row['square_meters']/ row['num_rooms']\n",
    "    else:\n",
    "        row['sqm_per_room'] = pd.NA    \n",
    "df['sqm_per_room'] = df.apply(calculating_sqm_per_room, axis=1)\n",
    "sns.boxplot(data=df['sqm_per_room'], palette=\"Set2\")\n",
    "plt.show()\n",
    "\n",
    "# outliers detected from boxplot, take a closer look\n",
    "\n",
    "upper_bound = 100\n",
    "print(upper_bound)\n",
    "df[df['sqm_per_room']>upper_bound]['num_rooms'].value_counts()\n",
    "\n",
    "# nearly all rows that have an outlier as sqm_per_room have only 1 room. This doesn't make sense. Change this data with mean of sqm_per_room of non outliers\n",
    "\n",
    "median_sqm_per_room = df[df['sqm_per_room'] < upper_bound]['sqm_per_room'].median()\n",
    "print(median_sqm_per_room)\n",
    "\n",
    "def changing_num_rooms_in_outliers(row):\n",
    "    if row['square_meters'] >0 and pd.notna(row['num_rooms']):\n",
    "        if row['sqm_per_room'] < upper_bound:\n",
    "            return row['num_rooms']\n",
    "        else:\n",
    "            return round(row['square_meters'] / median_sqm_per_room,0)\n",
    "    else:\n",
    "        return row['num_rooms']    \n",
    "    \n",
    "df['num_rooms'] = df.apply(changing_num_rooms_in_outliers, axis=1)"
   ]
  },
  {
   "cell_type": "markdown",
   "metadata": {},
   "source": [
    "imputing binary variables with logistic regressions for each column"
   ]
  },
  {
   "cell_type": "code",
   "execution_count": null,
   "metadata": {},
   "outputs": [],
   "source": [
    "# imputing binary variables with logistic regression\n",
    "\n",
    "correlation_matrix = df.corr(method='pearson')\n",
    "\n",
    "# Calculate the correlation of all columns with respect to the 'price' column\n",
    "price_correlation = correlation_matrix['price']\n",
    "\n",
    "price_correlation = price_correlation.drop('price')\n",
    "plt.figure(figsize=(12, 8))\n",
    "sns.heatmap(price_correlation.to_frame(), annot=True, cmap=\"coolwarm\", linewidths=0.5)\n",
    "plt.show         \n",
    "\n",
    "#order do impute (from lowest to highest correlation): has_pool, is_furnished, has_ac, accepts_pets\n",
    "\n",
    "# imputing has_pool\n",
    "df['has_pool'] = df['has_pool'].map({True: 1, False: 0})\n",
    "df_train = df[df['has_pool'].notna()]\n",
    "df_test = df[df['has_pool'].isna()]\n",
    "X_train = df_train[['num_rooms', 'num_baths', 'square_meters', 'year_built', 'floor', 'num_crimes', 'num_supermarkets','neigh_Ciutat Vella', 'neigh_Eixample', 'neigh_Gràcia', 'neigh_Horta', 'neigh_Les Cors', 'neigh_Nou Barris', 'neigh_Sant Andreu', 'neigh_Sant Martí', 'neigh_Sants', 'neigh_Sarrià-Sant Gervasi']]\n",
    "y_train = df_train['has_pool']\n",
    "X_test = df_test[['num_rooms', 'num_baths', 'square_meters', 'year_built', 'floor', 'num_crimes', 'num_supermarkets','neigh_Ciutat Vella', 'neigh_Eixample', 'neigh_Gràcia', 'neigh_Horta', 'neigh_Les Cors', 'neigh_Nou Barris', 'neigh_Sant Andreu', 'neigh_Sant Martí', 'neigh_Sants', 'neigh_Sarrià-Sant Gervasi']]\n",
    "\n",
    "# Create an instance of the Logistic Regression model\n",
    "logreg = LogisticRegression()\n",
    "\n",
    "# Fit the model to the data\n",
    "logreg.fit(X_train, y_train)\n",
    "\n",
    "# Predict the class labels\n",
    "predicted_labels = logreg.predict(X_test)\n",
    "df.loc[df['has_pool'].isna(), 'has_pool'] = predicted_labels\n",
    "\n",
    "\n",
    "# imputing is_furnished\n",
    "df['is_furnished'] = df['is_furnished'].map({True: 1, False: 0})\n",
    "df_train = df[df['is_furnished'].notna()]\n",
    "df_test = df[df['is_furnished'].isna()]\n",
    "X_train = df_train[['num_rooms', 'num_baths', 'square_meters', 'year_built', 'floor', 'num_crimes', 'num_supermarkets','neigh_Ciutat Vella', 'neigh_Eixample', 'neigh_Gràcia', 'neigh_Horta', 'neigh_Les Cors', 'neigh_Nou Barris', 'neigh_Sant Andreu', 'neigh_Sant Martí', 'neigh_Sants', 'neigh_Sarrià-Sant Gervasi', 'has_pool']]\n",
    "y_train = df_train['is_furnished']\n",
    "X_test = df_test[['num_rooms', 'num_baths', 'square_meters', 'year_built', 'floor', 'num_crimes', 'num_supermarkets','neigh_Ciutat Vella', 'neigh_Eixample', 'neigh_Gràcia', 'neigh_Horta', 'neigh_Les Cors', 'neigh_Nou Barris', 'neigh_Sant Andreu', 'neigh_Sant Martí', 'neigh_Sants', 'neigh_Sarrià-Sant Gervasi', 'has_pool']]\n",
    "\n",
    "# Create an instance of the Logistic Regression model\n",
    "logreg = LogisticRegression()\n",
    "\n",
    "# Fit the model to the data\n",
    "logreg.fit(X_train, y_train)\n",
    "\n",
    "# Predict the class labels\n",
    "predicted_labels = logreg.predict(X_test)\n",
    "df.loc[df['is_furnished'].isna(), 'is_furnished'] = predicted_labels\n",
    "\n",
    "\n",
    "# imputing has_ac\n",
    "df['has_ac'] = df['has_ac'].map({True: 1, False: 0})\n",
    "df_train = df[df['has_ac'].notna()]\n",
    "df_test = df[df['has_ac'].isna()]\n",
    "X_train = df_train[['num_rooms', 'num_baths', 'square_meters', 'year_built', 'floor', 'num_crimes', 'num_supermarkets','neigh_Ciutat Vella', 'neigh_Eixample', 'neigh_Gràcia', 'neigh_Horta', 'neigh_Les Cors', 'neigh_Nou Barris', 'neigh_Sant Andreu', 'neigh_Sant Martí', 'neigh_Sants', 'neigh_Sarrià-Sant Gervasi', 'has_pool', 'is_furnished']]\n",
    "y_train = df_train['has_ac']\n",
    "X_test = df_test[['num_rooms', 'num_baths', 'square_meters', 'year_built', 'floor', 'num_crimes', 'num_supermarkets','neigh_Ciutat Vella', 'neigh_Eixample', 'neigh_Gràcia', 'neigh_Horta', 'neigh_Les Cors', 'neigh_Nou Barris', 'neigh_Sant Andreu', 'neigh_Sant Martí', 'neigh_Sants', 'neigh_Sarrià-Sant Gervasi', 'has_pool', 'is_furnished']]\n",
    "\n",
    "# Create an instance of the Logistic Regression model\n",
    "logreg = LogisticRegression()\n",
    "\n",
    "# Fit the model to the data\n",
    "logreg.fit(X_train, y_train)\n",
    "\n",
    "# Predict the class labels\n",
    "predicted_labels = logreg.predict(X_test)\n",
    "df.loc[df['has_ac'].isna(), 'has_ac'] = predicted_labels\n",
    "\n",
    "\n",
    "# imputing has_ac\n",
    "df['accepts_pets'] = df['accepts_pets'].map({True: 1, False: 0})\n",
    "df_train = df[df['accepts_pets'].notna()]\n",
    "df_test = df[df['accepts_pets'].isna()]\n",
    "X_train = df_train[['num_rooms', 'num_baths', 'square_meters', 'year_built', 'floor', 'num_crimes', 'num_supermarkets','neigh_Ciutat Vella', 'neigh_Eixample', 'neigh_Gràcia', 'neigh_Horta', 'neigh_Les Cors', 'neigh_Nou Barris', 'neigh_Sant Andreu', 'neigh_Sant Martí', 'neigh_Sants', 'neigh_Sarrià-Sant Gervasi', 'has_pool', 'is_furnished', 'has_ac']]\n",
    "y_train = df_train['accepts_pets']\n",
    "X_test = df_test[['num_rooms', 'num_baths', 'square_meters', 'year_built', 'floor', 'num_crimes', 'num_supermarkets','neigh_Ciutat Vella', 'neigh_Eixample', 'neigh_Gràcia', 'neigh_Horta', 'neigh_Les Cors', 'neigh_Nou Barris', 'neigh_Sant Andreu', 'neigh_Sant Martí', 'neigh_Sants', 'neigh_Sarrià-Sant Gervasi', 'has_pool', 'is_furnished', 'has_ac']]\n",
    "\n",
    "# Create an instance of the Logistic Regression model\n",
    "logreg = LogisticRegression()\n",
    "\n",
    "# Fit the model to the data\n",
    "logreg.fit(X_train, y_train)\n",
    "\n",
    "# Predict the class labels\n",
    "predicted_labels = logreg.predict(X_test)\n",
    "df.loc[df['accepts_pets'].isna(), 'accepts_pets'] = predicted_labels"
   ]
  },
  {
   "cell_type": "markdown",
   "metadata": {},
   "source": [
    "With imputing binary variables with logistic regression instead of KNN: MSE score increases to 30076.70033997275\n",
    "\n",
    "-> better to use KNN"
   ]
  },
  {
   "cell_type": "markdown",
   "metadata": {},
   "source": [
    "Winsorizing the outliers in price: only reduced MSE in traindata, MSE in kaggle was increased -> overfitting!"
   ]
  },
  {
   "cell_type": "code",
   "execution_count": null,
   "metadata": {},
   "outputs": [],
   "source": [
    "# Windsorizing price outliers in train data\n",
    "def winsorize(data, limits=(0.05, 0.05)):\n",
    "    \"\"\"\n",
    "    Winsorize a dataset by replacing extreme values with less extreme values.\n",
    "\n",
    "    Arguments:\n",
    "    - data: 1-D array or list, the dataset to be winsorized.\n",
    "    - limits: Tuple of two floats (lower, upper), representing the fraction of values to be replaced\n",
    "              on each tail. Default is (0.05, 0.05), which replaces 5% of the values on each tail.\n",
    "\n",
    "    Returns:\n",
    "    - winsorized_data: 1-D array, the winsorized dataset.\n",
    "    \"\"\"\n",
    "    # Copy the input data to avoid modifying the original array\n",
    "    winsorized_data = np.copy(data)\n",
    "\n",
    "\n",
    "    # Calculating the lower and upper limits for winsorization\n",
    "    lower_limit = np.percentile(winsorized_data, limits[0] * 100)\n",
    "    upper_limit = np.percentile(winsorized_data, 100 - limits[1] * 100)\n",
    "\n",
    "    print('Lower limit:', lower_limit)\n",
    "    print('Upper limit:', upper_limit)\n",
    "\n",
    "    # Replacing values below the lower limit with the lower limit\n",
    "    winsorized_data[winsorized_data < lower_limit] = lower_limit\n",
    "\n",
    "    # Replacing values above the upper limit with the upper limit\n",
    "    winsorized_data[winsorized_data > upper_limit] = upper_limit\n",
    "\n",
    "    return winsorized_data\n",
    "\n",
    "# Windsorizing the price variable\n",
    "df_train['price'] = winsorize(df_train['price'].dropna(), limits=(0.05, 0.05))"
   ]
  },
  {
   "cell_type": "markdown",
   "metadata": {},
   "source": []
  }
 ],
 "metadata": {
  "kernelspec": {
   "display_name": "ml_project1",
   "language": "python",
   "name": "python3"
  },
  "language_info": {
   "codemirror_mode": {
    "name": "ipython",
    "version": 3
   },
   "file_extension": ".py",
   "mimetype": "text/x-python",
   "name": "python",
   "nbconvert_exporter": "python",
   "pygments_lexer": "ipython3",
   "version": "3.11.6"
  }
 },
 "nbformat": 4,
 "nbformat_minor": 2
}
