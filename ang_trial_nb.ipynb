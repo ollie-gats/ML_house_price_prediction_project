{
 "cells": [
  {
   "cell_type": "markdown",
   "metadata": {},
   "source": [
    "### Importing Libraries\n"
   ]
  },
  {
   "cell_type": "code",
   "execution_count": 258,
   "metadata": {},
   "outputs": [],
   "source": [
    "import pandas as pd\n",
    "import matplotlib.pyplot as plt\n",
    "import missingno as msno\n",
    "import seaborn as sns\n",
    "from sklearn.model_selection import train_test_split\n",
    "from sklearn.linear_model import LinearRegression\n",
    "from sklearn.metrics import mean_squared_error\n",
    "from sklearn.metrics import r2_score\n",
    "from sklearn.ensemble import RandomForestRegressor\n",
    "from sklearn.impute import KNNImputer\n",
    "import numpy as np"
   ]
  },
  {
   "cell_type": "markdown",
   "metadata": {},
   "source": [
    "## Importing data"
   ]
  },
  {
   "cell_type": "markdown",
   "metadata": {},
   "source": [
    "### Prediction"
   ]
  },
  {
   "cell_type": "code",
   "execution_count": 259,
   "metadata": {},
   "outputs": [],
   "source": [
    "# Filling data path\n",
    "train_data_path = \"./data/train.csv\"\n",
    "\n",
    "# reading CSV file\n",
    "df = pd.read_csv(train_data_path)\n",
    "df.drop_duplicates(inplace=True)\n",
    "# df.columns\n",
    "# df.describe()"
   ]
  },
  {
   "cell_type": "markdown",
   "metadata": {},
   "source": [
    "### Submission\n",
    "##### Splitting feature and target data and concatenating the Dataframes"
   ]
  },
  {
   "cell_type": "code",
   "execution_count": 260,
   "metadata": {},
   "outputs": [],
   "source": [
    "# # Filling data path\n",
    "# train_data_path = \"./data/train.csv\"\n",
    "# test_data_path = \"./data/test.csv\"\n",
    "\n",
    "# # reading CSV file\n",
    "# df_train = pd.read_csv(train_data_path)\n",
    "# df_test = pd.read_csv(test_data_path)\n",
    "# df = pd.concat([df_train, df_test], axis=0).sort_values(\"id\").reset_index()\n",
    "\n"
   ]
  },
  {
   "cell_type": "markdown",
   "metadata": {},
   "source": [
    "### Descriptives"
   ]
  },
  {
   "cell_type": "code",
   "execution_count": 261,
   "metadata": {},
   "outputs": [],
   "source": [
    "# printing descriptives\n",
    "\n",
    "# print(df.info())\n",
    "# print(df.describe())"
   ]
  },
  {
   "cell_type": "markdown",
   "metadata": {},
   "source": [
    "#### Data cleaning\n",
    "- Dropping columns\n",
    "- Creating Floor 1 Dummy\n",
    "- Removing outliers from the num_rooms and square_meters"
   ]
  },
  {
   "cell_type": "code",
   "execution_count": 262,
   "metadata": {},
   "outputs": [],
   "source": [
    "# Dropping supermarkets number\n",
    "df.drop('num_supermarkets', axis=1, inplace=True)\n",
    "\n",
    "# Dropping orientation (argue saying that this is hardly inputer and has a 30% of missing data) \n",
    "df.drop('orientation', axis=1, inplace=True)\n",
    "\n",
    "# Creating floor variable\n",
    "df[['floor', 'door_num']] = df['door'].str.split('-', n=1, expand=True)\n",
    "df['floor'] = df['floor'].str[0]\n",
    "df[\"floor\"] = pd.to_numeric(df[\"floor\"])\n",
    "\n",
    "# Feature engineering - dummy for floor 1\n",
    "df['floor_one_dummy'] = df['floor'].apply(lambda x: True if x==1 else False)\n",
    "\n",
    "# Dropping door and door_num columns (justify: not influential)\n",
    "df.drop(['door', 'door_num'], axis=1, inplace=True)\n",
    "\n",
    "# Replacing the outliers with NaN in the number of rooms (justify cutoff value: outliers are very high above 10)\n",
    "df['num_rooms'] = df['num_rooms'].apply(lambda x: x if x<10 else np.nan)\n",
    "\n",
    "# Replacing the values of square metres < 40 with NaN (change the cutoff value and see the results)\n",
    "df.loc[df['square_meters'] < 30, 'square_meters'] = np.nan"
   ]
  },
  {
   "cell_type": "markdown",
   "metadata": {},
   "source": [
    "## Standardizing"
   ]
  },
  {
   "cell_type": "code",
   "execution_count": 263,
   "metadata": {},
   "outputs": [],
   "source": [
    "# Standardization\n",
    "to_standardize = ['square_meters', 'year_built', 'num_crimes']\n",
    "\n",
    "for i in to_standardize:\n",
    "    df[i] = (df[i] - np.mean(df[i])) / np.std(df[i])"
   ]
  },
  {
   "cell_type": "markdown",
   "metadata": {},
   "source": [
    "### Encoding Neighborhood"
   ]
  },
  {
   "cell_type": "markdown",
   "metadata": {},
   "source": [
    "#### Encoding using crimes\n",
    "Not sure about this: looking at the boxplot grouping the data by num_crimes there are several outliers. The outliers stay there after running the function"
   ]
  },
  {
   "cell_type": "code",
   "execution_count": 264,
   "metadata": {},
   "outputs": [],
   "source": [
    "# df.boxplot(column='num_crimes', by='neighborhood')\n",
    "\n",
    "# Encoding neighborhood\n",
    "neighb_mean_crime = df.groupby('neighborhood')['num_crimes'].mean()\n",
    "df['neighborhood_crime_encoded'] = df['neighborhood'].map(neighb_mean_crime)\n",
    "\n",
    "def replace_outliers_with_nan(group):\n",
    "    group_mean = group.mean()\n",
    "    group_std = group.std()\n",
    "    lower_bound = group_mean - 3 * group_std\n",
    "    upper_bound = group_mean + 3 * group_std\n",
    "    group[~group.between(lower_bound, upper_bound)] = np.nan\n",
    "    return group\n",
    "\n",
    "df['num_crimes'] = df.groupby('neighborhood')['num_crimes'].transform(replace_outliers_with_nan)\n",
    "df['num_crimes'] = df.groupby('neighborhood')['num_crimes'].transform(lambda x: x.fillna(x.mean()))\n"
   ]
  },
  {
   "cell_type": "markdown",
   "metadata": {},
   "source": [
    "#### Encoding using square meters"
   ]
  },
  {
   "cell_type": "code",
   "execution_count": 265,
   "metadata": {},
   "outputs": [],
   "source": [
    "# df.boxplot(column='square_meters', by='neighborhood')\n",
    "neighb_mean_sqm = df.groupby('neighborhood')['square_meters'].mean()\n",
    "df['neighborhood_sqm_encoded'] = df['neighborhood'].map(neighb_mean_sqm)"
   ]
  },
  {
   "cell_type": "markdown",
   "metadata": {},
   "source": [
    "### Checkig for rows with multiple null values and dropping them"
   ]
  },
  {
   "cell_type": "code",
   "execution_count": 266,
   "metadata": {},
   "outputs": [],
   "source": [
    "# # Count rows with two null values\n",
    "# cols = ['square_meters', 'neighborhood']\n",
    "# df1 = df[cols]\n",
    "# display(df1)\n",
    "# null_count = df1[df1.isnull().sum(axis=1) >= 2].shape[0]\n",
    "# print(null_count)\n",
    "# df1 = df1[df1.isnull().sum(axis=1) < 2]\n",
    "# df[cols] = df1[cols]\n"
   ]
  },
  {
   "cell_type": "markdown",
   "metadata": {},
   "source": [
    "### Imputations"
   ]
  },
  {
   "cell_type": "code",
   "execution_count": 267,
   "metadata": {},
   "outputs": [
    {
     "name": "stdout",
     "output_type": "stream",
     "text": [
      "index                            0\n",
      "id                               0\n",
      "num_rooms                      291\n",
      "num_baths                      200\n",
      "square_meters                  298\n",
      "year_built                     200\n",
      "is_furnished                   200\n",
      "has_pool                       200\n",
      "neighborhood                   200\n",
      "num_crimes                     200\n",
      "has_ac                         200\n",
      "accepts_pets                   200\n",
      "price                         2000\n",
      "floor                          200\n",
      "floor_one_dummy                  0\n",
      "neighborhood_crime_encoded     200\n",
      "neighborhood_sqm_encoded       200\n",
      "dtype: int64\n"
     ]
    }
   ],
   "source": [
    "# Printing number of missing values per column\n",
    "print(df.isna().sum())"
   ]
  },
  {
   "cell_type": "markdown",
   "metadata": {},
   "source": [
    "#### Imputing square meters with the mean by neighborhood"
   ]
  },
  {
   "cell_type": "code",
   "execution_count": 268,
   "metadata": {},
   "outputs": [],
   "source": [
    "# Imputing square_meters with the mean of their neighborhood (if possible)\n",
    "neighborhood_sqm_means = df.groupby('neighborhood')['square_meters'].mean().to_dict()\n",
    "\n",
    "def impute_square_meters(row):\n",
    "    neighborhood = row['neighborhood']\n",
    "    square_meters = row['square_meters']\n",
    "    if pd.isnull(square_meters):\n",
    "        if neighborhood in neighborhood_sqm_means:\n",
    "            return neighborhood_sqm_means[neighborhood]\n",
    "        else:\n",
    "            return np.nan\n",
    "    else:\n",
    "        return square_meters\n",
    "\n",
    "df['square_meters'] = df.apply(impute_square_meters, axis=1)"
   ]
  },
  {
   "cell_type": "markdown",
   "metadata": {},
   "source": [
    "#### Imputing num_crimes with the mean of the neighborhood"
   ]
  },
  {
   "cell_type": "code",
   "execution_count": 269,
   "metadata": {},
   "outputs": [],
   "source": [
    "df['num_crimes']=df['num_crimes'].fillna(df['num_crimes'].mean())"
   ]
  },
  {
   "cell_type": "markdown",
   "metadata": {},
   "source": [
    "#### Imputing all the rest"
   ]
  },
  {
   "cell_type": "code",
   "execution_count": 270,
   "metadata": {},
   "outputs": [],
   "source": [
    "knn_cols = ['num_rooms','num_baths', 'square_meters', 'floor', 'neighborhood_crime_encoded', 'neighborhood_sqm_encoded']\n",
    "df_sub = df[knn_cols]\n",
    "# Imputing with KNN\n",
    "imputer = KNNImputer(n_neighbors=3)\n",
    "imputed_data = imputer.fit_transform(df_sub)\n",
    "df_sub = pd.DataFrame(imputed_data, columns=df_sub.columns)\n",
    "# Putting the imputed columns back in the original df\n",
    "df = df.reset_index(drop=True)\n",
    "df = df.drop(knn_cols, axis=1)\n",
    "df[knn_cols] = df_sub[knn_cols]"
   ]
  },
  {
   "cell_type": "markdown",
   "metadata": {},
   "source": [
    "### Correlation matrix"
   ]
  },
  {
   "cell_type": "code",
   "execution_count": 271,
   "metadata": {},
   "outputs": [],
   "source": [
    "# plt.figure(figsize=(8, 6))\n",
    "# sns.heatmap(df[['num_rooms', 'num_baths', 'square_meters', 'year_built', 'is_furnished', 'has_pool', 'num_crimes', 'has_ac', 'accepts_pets', 'price', 'floor']].corr(), annot=True, cmap=\"coolwarm\", fmt=\".2f\", linewidths=0.5)\n",
    "# plt.title(\"Correlation Matrix\")\n",
    "# plt.show()"
   ]
  },
  {
   "cell_type": "markdown",
   "metadata": {},
   "source": [
    "## Prediction"
   ]
  },
  {
   "cell_type": "code",
   "execution_count": 272,
   "metadata": {},
   "outputs": [],
   "source": [
    "features = ['num_rooms', 'num_baths','square_meters', 'floor', 'num_crimes', 'neighborhood_crime_encoded','neighborhood_sqm_encoded', 'floor_one_dummy']\n",
    "target = ['price']\n",
    "\n",
    "def prediction_accuracy(df, features, target):\n",
    "    mse_list = []\n",
    "    num_of_predictions = 3000\n",
    "    for i in range (num_of_predictions):\n",
    "        X_train, X_test, y_train, y_test = train_test_split(df[features], df[target], test_size= 0.2)\n",
    "\n",
    "        model = LinearRegression()\n",
    "        model.fit(X_train, y_train)\n",
    "\n",
    "        y_pred = model.predict(X_test)\n",
    "        mse = mean_squared_error(y_test, y_pred)\n",
    "        mse_list.append(mse)\n",
    "    return sum(mse_list) / len(mse_list)\n",
    "\n",
    "print(prediction_accuracy(df, features, target))"
   ]
  },
  {
   "cell_type": "markdown",
   "metadata": {},
   "source": [
    "## Submission"
   ]
  },
  {
   "cell_type": "code",
   "execution_count": 273,
   "metadata": {},
   "outputs": [
    {
     "name": "stderr",
     "output_type": "stream",
     "text": [
      "/var/folders/74/33_vsgxd5vvcjfdfhbsl352c0000gn/T/ipykernel_82097/3589360014.py:15: SettingWithCopyWarning: \n",
      "A value is trying to be set on a copy of a slice from a DataFrame.\n",
      "Try using .loc[row_indexer,col_indexer] = value instead\n",
      "\n",
      "See the caveats in the documentation: https://pandas.pydata.org/pandas-docs/stable/user_guide/indexing.html#returning-a-view-versus-a-copy\n",
      "  df_test['pred'] = y_test\n"
     ]
    }
   ],
   "source": [
    "# # Split dataframes again to train model\n",
    "# df_test = df[df['price'].isna()]\n",
    "# df_train = df[~df['price'].isna()]\n",
    "\n",
    "# # Features and target variables\n",
    "# features = ['num_rooms', 'num_baths','square_meters', 'floor', 'num_crimes', 'neighborhood_crime_encoded','neighborhood_sqm_encoded', 'floor_one_dummy']\n",
    "# target = ['price']\n",
    "\n",
    "# # Model training\n",
    "# model = LinearRegression()\n",
    "# model.fit(df_train[features], df_train[target])\n",
    "\n",
    "# # Making Prediction\n",
    "# y_test = model.predict(df_test[features])\n",
    "# df_test['pred'] = y_test\n",
    "\n",
    "# new_df = pd.DataFrame()\n",
    "# new_df['id'] = df_test['id']\n",
    "# new_df['pred'] = df_test['pred']\n",
    "\n",
    "# new_df.to_csv('./check_mse_coherence_should_decrease.csv', index=False)\n",
    "\n"
   ]
  }
 ],
 "metadata": {
  "kernelspec": {
   "display_name": "base",
   "language": "python",
   "name": "python3"
  },
  "language_info": {
   "codemirror_mode": {
    "name": "ipython",
    "version": 3
   },
   "file_extension": ".py",
   "mimetype": "text/x-python",
   "name": "python",
   "nbconvert_exporter": "python",
   "pygments_lexer": "ipython3",
   "version": "3.11.4"
  }
 },
 "nbformat": 4,
 "nbformat_minor": 2
}
