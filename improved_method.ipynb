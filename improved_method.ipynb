{
 "cells": [
  {
   "cell_type": "code",
   "execution_count": null,
   "metadata": {},
   "outputs": [],
   "source": [
    "import pandas as pd\n",
    "from sklearn.impute import KNNImputer"
   ]
  },
  {
   "cell_type": "markdown",
   "metadata": {},
   "source": [
    "## Angelo above here, Ollie below here"
   ]
  },
  {
   "cell_type": "markdown",
   "metadata": {},
   "source": [
    "### KNN all variables, aside from num_supermarkets and binaries"
   ]
  },
  {
   "cell_type": "code",
   "execution_count": null,
   "metadata": {},
   "outputs": [],
   "source": [
    "# WHAT TO DO ABOUT FLOOR WITH KNN???\n",
    "impute_df = df[['num_rooms', 'num_baths', 'square_meters', 'year_built', 'num_crimes', 'price']]\n",
    "imputer = KNNImputer(n_neighbors=7)"
   ]
  },
  {
   "cell_type": "code",
   "execution_count": null,
   "metadata": {},
   "outputs": [],
   "source": [
    "data = {\n",
    "    'A': [2, 5, np.nan, 10, 15],\n",
    "    'B': [26, np.nan, 18, 90, 170],\n",
    "    'C': [11, 22, 33, np.nan, 75]\n",
    "}\n",
    "\n",
    "df = pd.DataFrame(data)\n",
    "\n",
    "# Create KNNImputer object with k=2\n",
    "imputer = KNNImputer(n_neighbors=2)\n",
    "\n",
    "# Perform KNN imputation\n",
    "imputed_data = imputer.fit_transform(df)\n",
    "\n",
    "# Convert the imputed data back to DataFrame\n",
    "imputed_df = pd.DataFrame(imputed_data, columns=df.columns)\n",
    "\n",
    "# Print the original DataFrame\n",
    "print(\"Original DataFrame:\")\n",
    "display(df)\n",
    "\n",
    "# Print the DataFrame after imputation\n",
    "print(\"\\nDataFrame after imputation:\")\n",
    "display(imputed_df)"
   ]
  },
  {
   "cell_type": "code",
   "execution_count": null,
   "metadata": {},
   "outputs": [],
   "source": []
  }
 ],
 "metadata": {
  "language_info": {
   "name": "python"
  }
 },
 "nbformat": 4,
 "nbformat_minor": 2
}
