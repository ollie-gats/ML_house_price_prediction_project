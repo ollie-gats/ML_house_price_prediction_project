{
 "cells": [
  {
   "cell_type": "markdown",
   "metadata": {},
   "source": [
    "## Angelo above here, Ollie below here"
   ]
  },
  {
   "cell_type": "code",
   "execution_count": 12,
   "metadata": {},
   "outputs": [],
   "source": [
    "train_data_path = \"./data/train.csv\"\n",
    "\n",
    "# Reading CSV file\n",
    "df = pd.read_csv(train_data_path)"
   ]
  },
  {
   "cell_type": "markdown",
   "metadata": {},
   "source": [
    "### KNN all variables, aside from num_supermarkets and binaries"
   ]
  },
  {
   "cell_type": "code",
   "execution_count": 13,
   "metadata": {},
   "outputs": [],
   "source": [
    "# WHAT TO DO ABOUT FLOOR WITH KNN???\n",
    "vars_to_impute = ['num_rooms', 'num_baths', 'square_meters', 'year_built', 'num_crimes', 'price']\n",
    "impute_df = df[vars_to_impute]\n",
    "\n",
    "imputer = KNNImputer(n_neighbors=7)\n",
    "imputed_data = imputer.fit_transform(impute_df)\n",
    "imputed_df = pd.DataFrame(imputed_data, columns = impute_df.columns)\n",
    "\n",
    "for var in vars_to_impute:\n",
    "    df[var] = imputed_df[var]"
   ]
  },
  {
   "cell_type": "markdown",
   "metadata": {},
   "source": [
    "#### Imputing neighborhood based on the number of crimes"
   ]
  },
  {
   "cell_type": "code",
   "execution_count": 15,
   "metadata": {},
   "outputs": [],
   "source": [
    "crimes_by_neighborhood = df.groupby('neighborhood')['num_crimes'].mean().to_dict()\n",
    "\n",
    "# Function to be used in the imputation process\n",
    "def find_closest_key(target, dictionary):\n",
    "    closest_key = None\n",
    "    closest_difference = float('inf')\n",
    "\n",
    "    for key, value in dictionary.items():\n",
    "        difference = abs(target - value)\n",
    "        if difference < closest_difference:\n",
    "            closest_key = key\n",
    "            closest_difference = difference\n",
    "\n",
    "    return closest_key\n",
    "\n",
    "# Imputing neighborhood based on number of crimes\n",
    "def impute_neighborhood(row):\n",
    "    crimes = row['num_crimes']\n",
    "    neighborhood = row['neighborhood']\n",
    "    if pd.isnull(neighborhood):\n",
    "        return find_closest_key(crimes, crimes_by_neighborhood)\n",
    "    else:\n",
    "        return neighborhood\n",
    "    \n",
    "df['neighborhood'] = df.apply(impute_neighborhood, axis=1)"
   ]
  },
  {
   "cell_type": "markdown",
   "metadata": {},
   "source": [
    "#### Imputing number of supermarkets with mean of the neighborhood"
   ]
  },
  {
   "cell_type": "code",
   "execution_count": 19,
   "metadata": {},
   "outputs": [
    {
     "name": "stdout",
     "output_type": "stream",
     "text": [
      "0       2.036496\n",
      "1       2.051613\n",
      "2       1.971429\n",
      "3       2.051613\n",
      "4       1.884615\n",
      "          ...   \n",
      "7995    2.036496\n",
      "7996    2.055556\n",
      "7997    2.036496\n",
      "7998    1.884615\n",
      "7999    2.055556\n",
      "Name: num_supermarkets, Length: 8000, dtype: float64\n"
     ]
    }
   ],
   "source": [
    "neighborhood_means = df.groupby('neighborhood')['num_supermarkets'].transform('mean')\n",
    "print(neighborhood_means)"
   ]
  },
  {
   "cell_type": "code",
   "execution_count": null,
   "metadata": {},
   "outputs": [],
   "source": []
  }
 ],
 "metadata": {
  "kernelspec": {
   "display_name": "ml_project1",
   "language": "python",
   "name": "python3"
  },
  "language_info": {
   "codemirror_mode": {
    "name": "ipython",
    "version": 3
   },
   "file_extension": ".py",
   "mimetype": "text/x-python",
   "name": "python",
   "nbconvert_exporter": "python",
   "pygments_lexer": "ipython3",
   "version": "3.12.0"
  }
 },
 "nbformat": 4,
 "nbformat_minor": 2
}
