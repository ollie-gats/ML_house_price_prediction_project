{
 "cells": [
  {
   "cell_type": "markdown",
   "metadata": {},
   "source": [
    "## Importing Libraries"
   ]
  },
  {
   "cell_type": "code",
   "execution_count": 1,
   "metadata": {},
   "outputs": [],
   "source": [
    "import pandas as pd\n",
    "from sklearn.impute import KNNImputer\n",
    "import matplotlib.pyplot as plt\n",
    "import missingno as msno\n",
    "import seaborn as sns\n",
    "import numpy as np\n",
    "import statsmodels.api as sm\n",
    "from sklearn.model_selection import train_test_split\n",
    "from sklearn.metrics import mean_squared_error\n",
    "from sklearn.metrics import r2_score\n",
    "from sklearn.ensemble import RandomForestRegressor\n",
    "from sklearn.linear_model import LinearRegression\n",
    "from sklearn.neighbors import KNeighborsRegressor\n",
    "from sklearn.experimental import enable_iterative_imputer\n",
    "from sklearn.preprocessing import LabelEncoder, StandardScaler\n",
    "from sklearn.model_selection import train_test_split\n",
    "from sklearn.linear_model import Lasso, Ridge\n",
    "from sklearn.metrics import mean_squared_error"
   ]
  },
  {
   "cell_type": "markdown",
   "metadata": {},
   "source": [
    "## Importing data"
   ]
  },
  {
   "cell_type": "code",
   "execution_count": 3,
   "metadata": {},
   "outputs": [
    {
     "name": "stdout",
     "output_type": "stream",
     "text": [
      "(10000, 17)\n"
     ]
    }
   ],
   "source": [
    "# Filling data path\n",
    "train_data_path = \"./data/train.csv\"\n",
    "test_data_path = \"./data/test.csv\"\n",
    "\n",
    "# reading CSV file\n",
    "df_train = pd.read_csv(train_data_path)\n",
    "df_test = pd.read_csv(test_data_path)\n",
    "\n",
    "# Creating column to differentiate df_test and df_train\n",
    "df_train['train_dummy'] = 1\n",
    "df_test['train_dummy'] = 0\n",
    "\n",
    "df = pd.concat([df_train, df_test], axis=0).sort_values(\"id\").reset_index()\n",
    "print(df.shape)\n"
   ]
  },
  {
   "cell_type": "markdown",
   "metadata": {},
   "source": [
    "## Data cleaning\n",
    "- Dropping columns\n",
    "- Creating Floor 1 Dummy\n",
    "- Removing outliers from the num_rooms and square_meters"
   ]
  },
  {
   "cell_type": "code",
   "execution_count": 4,
   "metadata": {},
   "outputs": [],
   "source": [
    "# Dropping orientation (argue saying that this is hardly inputer and has a 30% of missing data) \n",
    "df.drop('orientation', axis=1, inplace=True)\n",
    "\n",
    "# Creating floor variable\n",
    "df[['floor', 'door_num']] = df['door'].str.split('-', n=1, expand=True)\n",
    "df['floor'] = df['floor'].str[0]\n",
    "df[\"floor\"] = pd.to_numeric(df[\"floor\"])\n",
    "\n",
    "# Dropping door and door_num columns (justify: not influential)\n",
    "df.drop(['door', 'door_num'], axis=1, inplace=True)\n",
    "\n",
    "# Replacing the outliers with NaN in the number of rooms (justify cutoff value: outliers are very high above 10)\n",
    "df['num_rooms'] = df['num_rooms'].apply(lambda x: x if x<10 else np.nan)\n",
    "\n",
    "# Replacing the values of square metres < 40 with NaN (change the cutoff value and see the results)\n",
    "df.loc[df['square_meters'] < 0, 'square_meters'] = np.nan"
   ]
  },
  {
   "cell_type": "markdown",
   "metadata": {},
   "source": [
    "## Standardizing and imputing"
   ]
  },
  {
   "cell_type": "code",
   "execution_count": 5,
   "metadata": {},
   "outputs": [],
   "source": [
    "# Standardization\n",
    "def imputing_missing(impute_df, vars_to_impute):\n",
    "    standardizer = StandardScaler()\n",
    "    impute_df[vars_to_impute] = standardizer.fit_transform(df[vars_to_impute])\n",
    "    imputer = KNNImputer(n_neighbors=7)\n",
    "    impute_df[vars_to_impute] = imputer.fit_transform(df[vars_to_impute])\n",
    "    impute_df[vars_to_impute] = standardizer.inverse_transform(df[vars_to_impute])\n",
    "    return impute_df\n",
    "\n",
    "vars_to_impute = ['num_rooms', 'num_baths', 'square_meters', 'year_built', 'num_crimes', 'floor', 'has_ac', 'accepts_pets', 'is_furnished', 'has_pool']\n",
    "df = imputing_missing(df, vars_to_impute)"
   ]
  },
  {
   "cell_type": "code",
   "execution_count": 6,
   "metadata": {},
   "outputs": [],
   "source": [
    "# Re-standardising variables\n",
    "to_standardize = ['num_rooms', 'num_baths', 'square_meters', 'year_built', 'num_crimes', 'floor']\n",
    "\n",
    "for i in to_standardize:\n",
    "    df[i] = (df[i] - np.mean(df[i])) / np.std(df[i])"
   ]
  },
  {
   "cell_type": "markdown",
   "metadata": {},
   "source": [
    "### KNN all variables, aside from num_supermarkets and binaries"
   ]
  },
  {
   "cell_type": "code",
   "execution_count": 7,
   "metadata": {},
   "outputs": [],
   "source": [
    "# vars_to_impute = ['num_rooms', 'num_baths', 'square_meters', 'year_built', 'num_crimes', 'price', 'floor', 'has_ac', 'accepts_pets', 'is_furnished', 'has_pool']\n",
    "# impute_df = df[vars_to_impute]\n",
    "\n",
    "# imputer = KNNImputer(n_neighbors=7)\n",
    "# imputed_data = imputer.fit_transform(impute_df)\n",
    "# imputed_df = pd.DataFrame(imputed_data, columns = impute_df.columns)\n",
    "\n",
    "# for var in vars_to_impute:\n",
    "#     df[var] = imputed_df[var]"
   ]
  },
  {
   "cell_type": "markdown",
   "metadata": {},
   "source": [
    "#### Imputing neighborhood based on the number of crimes"
   ]
  },
  {
   "cell_type": "code",
   "execution_count": 8,
   "metadata": {},
   "outputs": [],
   "source": [
    "crimes_by_neighborhood = df.groupby('neighborhood')['num_crimes'].mean().to_dict()\n",
    "\n",
    "# Function to be used in the imputation process\n",
    "def find_closest_key(target, dictionary):\n",
    "    closest_key = None\n",
    "    closest_difference = float('inf')\n",
    "\n",
    "    for key, value in dictionary.items():\n",
    "        difference = abs(target - value)\n",
    "        if difference < closest_difference:\n",
    "            closest_key = key\n",
    "            closest_difference = difference\n",
    "\n",
    "    return closest_key\n",
    "\n",
    "# Imputing neighborhood based on number of crimes\n",
    "def impute_neighborhood(row):\n",
    "    crimes = row['num_crimes']\n",
    "    neighborhood = row['neighborhood']\n",
    "    if pd.isnull(neighborhood):\n",
    "        return find_closest_key(crimes, crimes_by_neighborhood)\n",
    "    else:\n",
    "        return neighborhood\n",
    "    \n",
    "df['neighborhood'] = df.apply(impute_neighborhood, axis=1)"
   ]
  },
  {
   "cell_type": "markdown",
   "metadata": {},
   "source": [
    "#### Imputing number of supermarkets with mean of the neighborhood"
   ]
  },
  {
   "cell_type": "code",
   "execution_count": 9,
   "metadata": {},
   "outputs": [],
   "source": [
    "neighborhood_means = df.groupby('neighborhood')['num_supermarkets'].mean()\n",
    "df['num_supermarkets'] = df['neighborhood'].map(neighborhood_means)"
   ]
  },
  {
   "cell_type": "markdown",
   "metadata": {},
   "source": [
    "#### Creating floor 1 dummy"
   ]
  },
  {
   "cell_type": "code",
   "execution_count": 10,
   "metadata": {},
   "outputs": [],
   "source": [
    "df['floor_one_dummy'] = df['floor'].apply(lambda x: True if x==1 else False)"
   ]
  },
  {
   "cell_type": "markdown",
   "metadata": {},
   "source": [
    "#### Encoding neighborhood"
   ]
  },
  {
   "cell_type": "code",
   "execution_count": 11,
   "metadata": {},
   "outputs": [],
   "source": [
    "df = pd.get_dummies(df, columns=['neighborhood'], prefix=['neigh']).reset_index(drop=True)"
   ]
  },
  {
   "cell_type": "markdown",
   "metadata": {},
   "source": [
    "#### Seperating the dfs for training and testing"
   ]
  },
  {
   "cell_type": "code",
   "execution_count": 14,
   "metadata": {},
   "outputs": [],
   "source": [
    "# Seperating test and train\n",
    "X_train = df[df['train_dummy'] == 1][['num_rooms', 'num_baths', 'square_meters', 'year_built', 'floor', 'num_crimes', 'floor_one_dummy', 'num_supermarkets', 'neigh_Ciutat Vella', 'neigh_Eixample', 'neigh_Gràcia', 'neigh_Horta', 'neigh_Les Cors', 'neigh_Nou Barris', 'neigh_Sant Andreu', 'neigh_Sant Martí', 'neigh_Sants', 'neigh_Sarrià-Sant Gervasi', 'is_furnished', 'has_pool', 'has_ac', 'accepts_pets']]\n",
    "y_train = df[df['train_dummy'] == 1][['price']]\n",
    "\n",
    "X_test = df[df['train_dummy'] == 0][['num_rooms', 'num_baths', 'square_meters', 'year_built', 'floor', 'num_crimes', 'floor_one_dummy', 'num_supermarkets', 'neigh_Ciutat Vella', 'neigh_Eixample', 'neigh_Gràcia', 'neigh_Horta', 'neigh_Les Cors', 'neigh_Nou Barris', 'neigh_Sant Andreu', 'neigh_Sant Martí', 'neigh_Sants', 'neigh_Sarrià-Sant Gervasi', 'is_furnished', 'has_pool', 'has_ac', 'accepts_pets']]"
   ]
  },
  {
   "cell_type": "code",
   "execution_count": 13,
   "metadata": {},
   "outputs": [],
   "source": [
    "# Creating function for cross validation\n",
    "\n",
    "def prediction_accuracy(X_train, y_train, model):\n",
    "    mse_list = []\n",
    "    num_of_predictions = 1000\n",
    "    for i in range (num_of_predictions):\n",
    "        X_train_temp, X_test_temp, y_train_temp, y_test_temp = train_test_split(X_train, y_train, test_size= 0.2)\n",
    "\n",
    "        model.fit(X_train_temp, y_train_temp)\n",
    "\n",
    "        y_pred = model.predict(X_test_temp)\n",
    "        mse = mean_squared_error(y_test_temp, y_pred)\n",
    "        mse_list.append(mse)\n",
    "    return sum(mse_list) / len(mse_list)\n"
   ]
  },
  {
   "cell_type": "markdown",
   "metadata": {},
   "source": [
    "## Model Training"
   ]
  },
  {
   "cell_type": "code",
   "execution_count": 15,
   "metadata": {},
   "outputs": [
    {
     "name": "stdout",
     "output_type": "stream",
     "text": [
      "29978.155461549693\n"
     ]
    }
   ],
   "source": [
    "# Test linear regression model\n",
    "lin_model = LinearRegression()\n",
    "print(prediction_accuracy(X_train, y_train, lin_model))"
   ]
  },
  {
   "cell_type": "code",
   "execution_count": null,
   "metadata": {},
   "outputs": [],
   "source": [
    "# Testing LASSO for best alpha\n",
    "\n",
    "# Lasso Regression\n",
    "# Define a range of alphas to try\n",
    "alphas = np.logspace(-10, 0, 50)\n",
    "\n",
    "# Initialize variables to store the best alpha and minimum MSE\n",
    "best_alpha_lasso = None\n",
    "min_mse_lasso = float('inf')\n",
    "\n",
    "for alpha in alphas:\n",
    "    # Fit Lasso model\n",
    "    lasso = Lasso(alpha=alpha)\n",
    "    mse_lasso = prediction_accuracy(X_train, y_train, lasso)\n",
    "\n",
    "    # Update best alpha and minimum MSE for Lasso\n",
    "    if mse_lasso < min_mse_lasso:\n",
    "        min_mse_lasso = mse_lasso\n",
    "        best_alpha_lasso = alpha\n",
    "\n",
    "print('Min MSE lasso ' + str(min_mse_lasso))\n",
    "print('Optimal_alpha' + str(best_alpha_lasso))"
   ]
  },
  {
   "cell_type": "markdown",
   "metadata": {},
   "source": [
    "## Prediction"
   ]
  },
  {
   "cell_type": "code",
   "execution_count": 17,
   "metadata": {},
   "outputs": [],
   "source": [
    "# Linear regression prediction\n",
    "y_pred = lin_model.predict(X_test)\n",
    "\n",
    "new_df = pd.DataFrame()\n",
    "new_df['id'] = df[df['train_dummy'] == 0]['id']\n",
    "new_df['pred'] = y_pred"
   ]
  },
  {
   "cell_type": "code",
   "execution_count": 19,
   "metadata": {},
   "outputs": [
    {
     "name": "stderr",
     "output_type": "stream",
     "text": [
      "c:\\Users\\gatla\\anaconda3\\envs\\ml_project1\\Lib\\site-packages\\sklearn\\linear_model\\_coordinate_descent.py:628: ConvergenceWarning: Objective did not converge. You might want to increase the number of iterations, check the scale of the features or consider increasing regularisation. Duality gap: 1.637e+07, tolerance: 5.904e+04\n",
      "  model = cd_fast.enet_coordinate_descent(\n"
     ]
    }
   ],
   "source": [
    "# Impletmenting LASSO with optimal alpha\n",
    "lasso = Lasso(alpha=best_alpha_lasso)\n",
    "lasso.fit(X_train, y_train)\n",
    "y_pred = lasso.predict(X_test)\n",
    "\n",
    "new_df = pd.DataFrame()\n",
    "new_df['id'] = df[df['train_dummy'] == 0]['id']\n",
    "new_df['pred'] = y_pred"
   ]
  },
  {
   "cell_type": "markdown",
   "metadata": {},
   "source": [
    "#### Exporting data"
   ]
  },
  {
   "cell_type": "code",
   "execution_count": 18,
   "metadata": {},
   "outputs": [],
   "source": [
    "new_df.to_csv('C:/Users/gatla/OneDrive/BSE/Computational_machine_learning/Project_1/neighborhood_target_encoded.csv', index=False)"
   ]
  }
 ],
 "metadata": {
  "kernelspec": {
   "display_name": "ml_project1",
   "language": "python",
   "name": "python3"
  },
  "language_info": {
   "codemirror_mode": {
    "name": "ipython",
    "version": 3
   },
   "file_extension": ".py",
   "mimetype": "text/x-python",
   "name": "python",
   "nbconvert_exporter": "python",
   "pygments_lexer": "ipython3",
   "version": "3.12.0"
  }
 },
 "nbformat": 4,
 "nbformat_minor": 2
}
