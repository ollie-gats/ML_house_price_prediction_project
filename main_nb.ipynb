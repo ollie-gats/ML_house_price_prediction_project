{
 "cells": [
  {
   "cell_type": "markdown",
   "metadata": {},
   "source": [
    "### Importing Libraries\n"
   ]
  },
  {
   "cell_type": "code",
   "execution_count": 316,
   "metadata": {},
   "outputs": [],
   "source": [
    "import pandas as pd\n",
    "import matplotlib.pyplot as plt\n",
    "import missingno as msno\n",
    "import seaborn as sns\n",
    "import numpy as np\n",
    "import statsmodels.api as sm\n",
    "from sklearn.model_selection import train_test_split\n",
    "from sklearn.metrics import mean_squared_error\n",
    "from sklearn.metrics import r2_score\n",
    "from sklearn.ensemble import RandomForestRegressor\n",
    "from sklearn.linear_model import LinearRegression\n",
    "from sklearn.neighbors import KNeighborsRegressor\n",
    "from sklearn.impute import KNNImputer\n",
    "from sklearn.impute import IterativeImputer\n",
    "from sklearn.experimental import enable_iterative_imputer\n",
    "from sklearn.preprocessing import LabelEncoder"
   ]
  },
  {
   "cell_type": "markdown",
   "metadata": {},
   "source": [
    "## Importing data"
   ]
  },
  {
   "cell_type": "markdown",
   "metadata": {},
   "source": [
    "### Prediction"
   ]
  },
  {
   "cell_type": "code",
   "execution_count": 317,
   "metadata": {},
   "outputs": [],
   "source": [
    "# Filling data path\n",
    "train_data_path = \"./data/train.csv\"\n",
    "\n",
    "# reading CSV file\n",
    "df = pd.read_csv(train_data_path)\n",
    "df.drop_duplicates(inplace=True)\n",
    "# df.columns\n",
    "# df.describe()"
   ]
  },
  {
   "cell_type": "markdown",
   "metadata": {},
   "source": [
    "### Submission\n",
    "##### Splitting feature and target data and concatenating the Dataframes"
   ]
  },
  {
   "cell_type": "code",
   "execution_count": 318,
   "metadata": {},
   "outputs": [],
   "source": [
    "# # Filling data path\n",
    "# train_data_path = \"./data/train.csv\"\n",
    "# test_data_path = \"./data/test.csv\"\n",
    "\n",
    "# # reading CSV file\n",
    "# df_train = pd.read_csv(train_data_path)\n",
    "# df_test = pd.read_csv(test_data_path)\n",
    "# df = pd.concat([df_train, df_test], axis=0).sort_values(\"id\").reset_index()\n",
    "\n"
   ]
  },
  {
   "cell_type": "markdown",
   "metadata": {},
   "source": [
    "### Descriptives"
   ]
  },
  {
   "cell_type": "code",
   "execution_count": 319,
   "metadata": {},
   "outputs": [],
   "source": [
    "# printing descriptives\n",
    "\n",
    "# print(df.info())\n",
    "# print(df.describe())"
   ]
  },
  {
   "cell_type": "markdown",
   "metadata": {},
   "source": [
    "#### Data cleaning\n",
    "- Dropping columns\n",
    "- Creating Floor 1 Dummy\n",
    "- Removing outliers from the num_rooms and square_meters"
   ]
  },
  {
   "cell_type": "code",
   "execution_count": 320,
   "metadata": {},
   "outputs": [],
   "source": [
    "# Dropping supermarkets number\n",
    "df.drop('num_supermarkets', axis=1, inplace=True)\n",
    "\n",
    "# # Dropping orientation (argue saying that this is hardly inputer and has a 30% of missing data) \n",
    "# df.drop('orientation', axis=1, inplace=True)\n",
    "\n",
    "# Creating floor variable\n",
    "df[['floor', 'door_num']] = df['door'].str.split('-', n=1, expand=True)\n",
    "df['floor'] = df['floor'].str[0]\n",
    "df[\"floor\"] = pd.to_numeric(df[\"floor\"])\n",
    "\n",
    "# Feature engineering - dummy for floor 1\n",
    "df['floor_one_dummy'] = df['floor'].apply(lambda x: True if x==1 else False)\n",
    "\n",
    "# Dropping door and door_num columns (justify: not influential)\n",
    "df.drop(['door', 'door_num'], axis=1, inplace=True)\n",
    "\n",
    "# Replacing the outliers with NaN in the number of rooms (justify cutoff value: outliers are very high above 10)\n",
    "df['num_rooms'] = df['num_rooms'].apply(lambda x: x if x<10 else np.nan)\n",
    "\n",
    "# Replacing the values of square metres < 40 with NaN (change the cutoff value and see the results)\n",
    "df.loc[df['square_meters'] < 30, 'square_meters'] = np.nan"
   ]
  },
  {
   "cell_type": "markdown",
   "metadata": {},
   "source": [
    "## Standardizing"
   ]
  },
  {
   "cell_type": "code",
   "execution_count": 321,
   "metadata": {},
   "outputs": [],
   "source": [
    "# Standardization\n",
    "to_standardize = ['square_meters', 'year_built', 'num_crimes']\n",
    "\n",
    "for i in to_standardize:\n",
    "    df[i] = (df[i] - np.mean(df[i])) / np.std(df[i])"
   ]
  },
  {
   "cell_type": "markdown",
   "metadata": {},
   "source": [
    "### Encoding Orientation"
   ]
  },
  {
   "cell_type": "code",
   "execution_count": 322,
   "metadata": {},
   "outputs": [],
   "source": [
    "# Fixing typo in Orientation column 'soxth'\n",
    "\n",
    "df['orientation'] = df['orientation'].transform(lambda x: x if x != 'soxth' else 'south')\n",
    "df['orientation_encoded'] = df['orientation'].apply(lambda x: 1 if x == 'south' else 0)\n"
   ]
  },
  {
   "cell_type": "markdown",
   "metadata": {},
   "source": [
    "#### Imputing square meters with the mean by neighborhood"
   ]
  },
  {
   "cell_type": "code",
   "execution_count": 323,
   "metadata": {},
   "outputs": [],
   "source": [
    "# Imputing square_meters with the mean of their neighborhood (if possible)\n",
    "neighborhood_sqm_means = df.groupby('neighborhood')['square_meters'].mean().to_dict()\n",
    "\n",
    "def impute_square_meters(row):\n",
    "    neighborhood = row['neighborhood']\n",
    "    square_meters = row['square_meters']\n",
    "    if pd.isnull(square_meters):\n",
    "        if neighborhood in neighborhood_sqm_means:\n",
    "            return neighborhood_sqm_means[neighborhood]\n",
    "        else:\n",
    "            return np.nan\n",
    "    else:\n",
    "        return square_meters\n",
    "\n",
    "df['square_meters'] = df.apply(impute_square_meters, axis=1)"
   ]
  },
  {
   "cell_type": "markdown",
   "metadata": {},
   "source": [
    "#### Imputing num crimes with the mean by neighborhood"
   ]
  },
  {
   "cell_type": "code",
   "execution_count": 324,
   "metadata": {},
   "outputs": [],
   "source": [
    "# Imputing num_crimes with the mean of their neighborhood (if possible)\n",
    "neighborhood_crimes_means = df.groupby('neighborhood')['num_crimes'].mean().to_dict()\n",
    "\n",
    "def impute_num_crimes(row):\n",
    "    neighborhood = row['neighborhood']\n",
    "    num_crimes = row['num_crimes']\n",
    "    if pd.isnull(num_crimes):\n",
    "        if neighborhood in neighborhood_crimes_means:\n",
    "            return neighborhood_crimes_means[neighborhood]\n",
    "        else:\n",
    "            return np.nan\n",
    "    else:\n",
    "        return num_crimes\n",
    "\n",
    "df['num_crimes'] = df.apply(impute_num_crimes, axis=1)"
   ]
  },
  {
   "cell_type": "markdown",
   "metadata": {},
   "source": [
    "### Imputing Neighborhood\n"
   ]
  },
  {
   "cell_type": "markdown",
   "metadata": {},
   "source": [
    "#### Label Encoding neighborhood"
   ]
  },
  {
   "cell_type": "code",
   "execution_count": 325,
   "metadata": {},
   "outputs": [],
   "source": [
    "label_encoder = LabelEncoder()\n",
    "\n",
    "# Filling NaN with a placeholder value for encoding purposes\n",
    "df['neighborhood'].fillna('NaN_Value', inplace=True)\n",
    "\n",
    "# Encoding the neighborhood values\n",
    "df['neighborhood_encoded'] = label_encoder.fit_transform(df['neighborhood'])\n",
    "\n",
    "# Replacing the placeholder value with NaN again\n",
    "df['neighborhood_encoded'].replace(label_encoder.transform(['NaN_Value'])[0], float('nan'), inplace=True)"
   ]
  },
  {
   "cell_type": "markdown",
   "metadata": {},
   "source": [
    "### Imputing neighborhood with KNN"
   ]
  },
  {
   "cell_type": "code",
   "execution_count": 326,
   "metadata": {},
   "outputs": [],
   "source": [
    "# Select the columns to use for imputation\n",
    "impute_df = df[['neighborhood_encoded', 'square_meters', 'num_crimes']]\n",
    "\n",
    "# Initialize the imputer with KNN method\n",
    "imputer = KNNImputer(n_neighbors=5, weights=\"uniform\", metric=\"nan_euclidean\")\n",
    "\n",
    "# Fit the imputer and transform the data\n",
    "imputed_data = imputer.fit_transform(impute_df)\n",
    "\n",
    "# Update the original DataFrame with the imputed values\n",
    "df[['neighborhood_encoded', 'square_meters', 'num_crimes']] = imputed_data"
   ]
  },
  {
   "cell_type": "code",
   "execution_count": 327,
   "metadata": {},
   "outputs": [],
   "source": [
    "# Create a new DataFrame for imputation\n",
    "impute_df = df[['neighborhood_encoded', 'square_meters', 'num_crimes']]\n",
    "\n",
    "imputer = KNNImputer(n_neighbors=5)\n",
    "imputed_data = imputer.fit_transform(impute_df)\n",
    "df[['neighborhood_encoded', 'square_meters', 'num_crimes']] = imputed_data"
   ]
  },
  {
   "cell_type": "markdown",
   "metadata": {},
   "source": [
    "### Target Encoding Neighborhood"
   ]
  },
  {
   "cell_type": "markdown",
   "metadata": {},
   "source": [
    "#### Encoding using crimes\n",
    "Not sure about this: looking at the boxplot grouping the data by num_crimes there are several outliers. The outliers stay there after running the function"
   ]
  },
  {
   "cell_type": "code",
   "execution_count": 328,
   "metadata": {},
   "outputs": [],
   "source": [
    "# df.boxplot(column='num_crimes', by='neighborhood')\n",
    "\n",
    "# Encoding neighborhood\n",
    "neighb_mean_crime = df.groupby('neighborhood')['num_crimes'].mean()\n",
    "df['neighborhood_crime_encoded'] = df['neighborhood'].map(neighb_mean_crime)\n",
    "\n",
    "def replace_outliers_with_nan(group):\n",
    "    group_mean = group.mean()\n",
    "    group_std = group.std()\n",
    "    lower_bound = group_mean - 3 * group_std\n",
    "    upper_bound = group_mean + 3 * group_std\n",
    "    group[~group.between(lower_bound, upper_bound)] = np.nan\n",
    "    return group\n",
    "\n",
    "df['num_crimes'] = df.groupby('neighborhood')['num_crimes'].transform(replace_outliers_with_nan)\n",
    "df['num_crimes'] = df.groupby('neighborhood')['num_crimes'].transform(lambda x: x.fillna(x.mean()))\n"
   ]
  },
  {
   "cell_type": "markdown",
   "metadata": {},
   "source": [
    "#### Encoding using square meters"
   ]
  },
  {
   "cell_type": "code",
   "execution_count": 329,
   "metadata": {},
   "outputs": [],
   "source": [
    "# df.boxplot(column='square_meters', by='neighborhood')\n",
    "neighb_mean_sqm = df.groupby('neighborhood')['square_meters'].mean()\n",
    "df['neighborhood_sqm_encoded'] = df['neighborhood'].map(neighb_mean_sqm)"
   ]
  },
  {
   "cell_type": "markdown",
   "metadata": {},
   "source": [
    "### Imputations"
   ]
  },
  {
   "cell_type": "code",
   "execution_count": 330,
   "metadata": {},
   "outputs": [
    {
     "name": "stdout",
     "output_type": "stream",
     "text": [
      "id                               0\n",
      "num_rooms                       46\n",
      "num_baths                      160\n",
      "square_meters                    0\n",
      "orientation                   8000\n",
      "year_built                     170\n",
      "is_furnished                   165\n",
      "has_pool                       156\n",
      "neighborhood                     0\n",
      "num_crimes                       0\n",
      "has_ac                         169\n",
      "accepts_pets                   155\n",
      "price                            0\n",
      "floor                          149\n",
      "floor_one_dummy                  0\n",
      "orientation_encoded              0\n",
      "neighborhood_encoded             0\n",
      "neighborhood_crime_encoded       0\n",
      "neighborhood_sqm_encoded         0\n",
      "dtype: int64\n"
     ]
    }
   ],
   "source": [
    "# Printing number of missing values per column\n",
    "print(df.isna().sum())"
   ]
  },
  {
   "cell_type": "markdown",
   "metadata": {},
   "source": [
    "### Imputing Floor with the median"
   ]
  },
  {
   "cell_type": "code",
   "execution_count": 331,
   "metadata": {},
   "outputs": [],
   "source": [
    "# Calculate the median excluding the missing values\n",
    "median_floor = df['floor'].median()\n",
    "\n",
    "# Impute missing values with the median\n",
    "df['floor'] = df['floor'].fillna(median_floor)"
   ]
  },
  {
   "cell_type": "markdown",
   "metadata": {},
   "source": [
    "#### Imputing num_rooms and num_baths"
   ]
  },
  {
   "cell_type": "code",
   "execution_count": 332,
   "metadata": {},
   "outputs": [],
   "source": [
    "# knn_cols = ['num_rooms','num_baths', 'square_meters']\n",
    "# df_sub = df[knn_cols]\n",
    "# # Imputing with KNN\n",
    "# imputer = KNNImputer(n_neighbors=3)\n",
    "# imputed_data = imputer.fit_transform(df_sub)\n",
    "# df_sub = pd.DataFrame(imputed_data, columns=df_sub.columns)\n",
    "# # Putting the imputed columns back in the original df\n",
    "# df = df.reset_index(drop=True)\n",
    "# df = df.drop(knn_cols, axis=1)\n",
    "# df[knn_cols] = df_sub[knn_cols]"
   ]
  },
  {
   "cell_type": "code",
   "execution_count": 349,
   "metadata": {},
   "outputs": [],
   "source": [
    "cols_to_impute = ['num_rooms', 'num_baths', 'square_meters','year_built', 'num_crimes', 'floor', 'neighborhood_crime_encoded']\n",
    "pred_cols = ['num_rooms', 'num_baths', 'square_meters','year_built', 'num_crimes', 'floor', 'neighborhood_crime_encoded']\n",
    "def reg_imputer(df, columns_to_impute: list, predictor_columns: list):\n",
    "\n",
    "    # Separate the DataFrames\n",
    "    imputation_df = df[columns_to_impute]\n",
    "    predictors_df = df[predictor_columns]\n",
    "\n",
    "    imputer = IterativeImputer(estimator=LinearRegression())\n",
    "    imputer.fit(predictors_df)\n",
    "    imputed_values = imputer.transform(imputation_df)\n",
    "    df[columns_to_impute] = imputed_values\n",
    "    \n",
    "    return df\n",
    "\n",
    "df = reg_imputer(df, cols_to_impute, pred_cols)"
   ]
  },
  {
   "cell_type": "markdown",
   "metadata": {},
   "source": [
    "## Feature Engineering"
   ]
  },
  {
   "cell_type": "code",
   "execution_count": 355,
   "metadata": {},
   "outputs": [],
   "source": [
    "# Creating baths per room variable\n",
    "df['baths_per_room'] = df['num_baths']/df['num_rooms']\n",
    "df['rooms_squared'] = df['num_rooms']**2"
   ]
  },
  {
   "cell_type": "markdown",
   "metadata": {},
   "source": [
    "### Correlation matrix"
   ]
  },
  {
   "cell_type": "code",
   "execution_count": 335,
   "metadata": {},
   "outputs": [],
   "source": [
    "# plt.figure(figsize=(8, 6))\n",
    "# sns.heatmap(df[['num_rooms', 'num_baths', 'square_meters', 'year_built', 'is_furnished', 'has_pool', 'num_crimes', 'has_ac', 'accepts_pets', 'price', 'floor']].corr(), annot=True, cmap=\"coolwarm\", fmt=\".2f\", linewidths=0.5)\n",
    "# plt.title(\"Correlation Matrix\")\n",
    "# plt.show()"
   ]
  },
  {
   "cell_type": "markdown",
   "metadata": {},
   "source": [
    "## Regression"
   ]
  },
  {
   "cell_type": "code",
   "execution_count": 357,
   "metadata": {},
   "outputs": [
    {
     "name": "stdout",
     "output_type": "stream",
     "text": [
      "                            OLS Regression Results                            \n",
      "==============================================================================\n",
      "Dep. Variable:                  price   R-squared:                       0.592\n",
      "Model:                            OLS   Adj. R-squared:                  0.592\n",
      "Method:                 Least Squares   F-statistic:                     1032.\n",
      "Date:                Sun, 29 Oct 2023   Prob (F-statistic):               0.00\n",
      "Time:                        19:49:03   Log-Likelihood:                -42073.\n",
      "No. Observations:                6400   AIC:                         8.417e+04\n",
      "Df Residuals:                    6390   BIC:                         8.423e+04\n",
      "Df Model:                           9                                         \n",
      "Covariance Type:            nonrobust                                         \n",
      "==============================================================================================\n",
      "                                 coef    std err          t      P>|t|      [0.025      0.975]\n",
      "----------------------------------------------------------------------------------------------\n",
      "const                        984.4918     12.659     77.770      0.000     959.676    1009.308\n",
      "num_rooms                     10.2396      3.774      2.714      0.007       2.842      17.637\n",
      "num_baths                     17.3899      4.414      3.939      0.000       8.736      26.044\n",
      "square_meters                195.7523      2.209     88.609      0.000     191.422     200.083\n",
      "floor                         11.4030      1.077     10.588      0.000       9.292      13.514\n",
      "num_crimes                   -78.3313      2.523    -31.045      0.000     -83.277     -73.385\n",
      "neighborhood_crime_encoded     6.3715      6.018      1.059      0.290      -5.426      18.169\n",
      "floor_one_dummy               52.6778      7.394      7.124      0.000      38.182      67.173\n",
      "year_built                    -1.1398      2.187     -0.521      0.602      -5.427       3.147\n",
      "baths_per_room               -11.1689      6.740     -1.657      0.098     -24.382       2.044\n",
      "==============================================================================\n",
      "Omnibus:                        0.847   Durbin-Watson:                   1.997\n",
      "Prob(Omnibus):                  0.655   Jarque-Bera (JB):                0.802\n",
      "Skew:                          -0.020   Prob(JB):                        0.670\n",
      "Kurtosis:                       3.037   Cond. No.                         41.4\n",
      "==============================================================================\n",
      "\n",
      "Notes:\n",
      "[1] Standard Errors assume that the covariance matrix of the errors is correctly specified.\n"
     ]
    }
   ],
   "source": [
    "features = ['num_rooms', 'num_baths', 'square_meters', 'floor', 'num_crimes', 'neighborhood_crime_encoded', 'floor_one_dummy','year_built', 'baths_per_room']\n",
    "target = 'price'\n",
    "\n",
    "# Regression output\n",
    "X_train, X_test, y_train, y_test = train_test_split(df[features], df[target], test_size=0.2)\n",
    "\n",
    "\n",
    "# Convert the data to appropriate types\n",
    "X_train = X_train.astype(float)\n",
    "y_train = y_train.astype(float)\n",
    "\n",
    "# Add a constant term to the features\n",
    "X_train = sm.add_constant(X_train)\n",
    "\n",
    "# Fit the OLS model\n",
    "model = sm.OLS(y_train, X_train)\n",
    "results = model.fit()\n",
    "\n",
    "# Print the summary of the regression results\n",
    "print(results.summary())"
   ]
  },
  {
   "cell_type": "markdown",
   "metadata": {},
   "source": [
    "## Prediction"
   ]
  },
  {
   "cell_type": "code",
   "execution_count": 358,
   "metadata": {},
   "outputs": [
    {
     "name": "stdout",
     "output_type": "stream",
     "text": [
      "29829.222859150927\n"
     ]
    }
   ],
   "source": [
    "features = ['num_rooms', 'num_baths', 'square_meters', 'floor', 'num_crimes', 'neighborhood_crime_encoded', 'floor_one_dummy', 'year_built', 'baths_per_room']\n",
    "target = ['price']\n",
    "\n",
    "def prediction_accuracy(df, features, target):\n",
    "    mse_list = []\n",
    "    num_of_predictions = 2000\n",
    "    for i in range (num_of_predictions):\n",
    "        X_train, X_test, y_train, y_test = train_test_split(df[features], df[target], test_size= 0.2)\n",
    "\n",
    "        model = LinearRegression()\n",
    "        model.fit(X_train, y_train)\n",
    "\n",
    "        y_pred = model.predict(X_test)\n",
    "        mse = mean_squared_error(y_test, y_pred)\n",
    "        mse_list.append(mse)\n",
    "    return sum(mse_list) / len(mse_list)\n",
    "\n",
    "print(prediction_accuracy(df, features, target))"
   ]
  },
  {
   "cell_type": "markdown",
   "metadata": {},
   "source": [
    "## Submission"
   ]
  },
  {
   "cell_type": "code",
   "execution_count": 338,
   "metadata": {},
   "outputs": [],
   "source": [
    "# # Split dataframes again to train model\n",
    "# df_test = df[df['price'].isna()]\n",
    "# df_train = df[~df['price'].isna()]\n",
    "\n",
    "# # Features and target variables\n",
    "# features = ['num_rooms', 'num_baths','square_meters', 'floor', 'num_crimes', 'neighborhood_crime_encoded','neighborhood_sqm_encoded', 'floor_one_dummy']\n",
    "# target = ['price']\n",
    "\n",
    "# # Model training\n",
    "# model = LinearRegression()\n",
    "# model.fit(df_train[features], df_train[target])\n",
    "\n",
    "# # Making Prediction\n",
    "# y_test = model.predict(df_test[features])\n",
    "# df_test['pred'] = y_test\n",
    "\n",
    "# new_df = pd.DataFrame()\n",
    "# new_df['id'] = df_test['id']\n",
    "# new_df['pred'] = df_test['pred']\n",
    "\n",
    "# new_df.to_csv('./check_mse_coherence_should_decrease.csv', index=False)\n",
    "\n"
   ]
  }
 ],
 "metadata": {
  "kernelspec": {
   "display_name": "base",
   "language": "python",
   "name": "python3"
  },
  "language_info": {
   "codemirror_mode": {
    "name": "ipython",
    "version": 3
   },
   "file_extension": ".py",
   "mimetype": "text/x-python",
   "name": "python",
   "nbconvert_exporter": "python",
   "pygments_lexer": "ipython3",
   "version": "3.11.4"
  }
 },
 "nbformat": 4,
 "nbformat_minor": 2
}
